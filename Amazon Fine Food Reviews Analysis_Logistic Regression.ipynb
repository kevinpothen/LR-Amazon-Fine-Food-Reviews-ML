{
 "cells": [
  {
   "cell_type": "markdown",
   "metadata": {},
   "source": [
    "# Amazon Fine Food Reviews Analysis\n",
    "\n",
    "\n",
    "Data Source: https://www.kaggle.com/snap/amazon-fine-food-reviews <br>\n",
    "\n",
    "The Amazon Fine Food Reviews dataset consists of reviews of fine foods from Amazon.<br>\n",
    "\n",
    "Number of reviews: 568,454<br>\n",
    "Number of users: 256,059<br>\n",
    "Number of products: 74,258<br>\n",
    "Timespan: Oct 1999 - Oct 2012<br>\n",
    "Number of Attributes/Columns in data: 10 \n",
    "\n",
    "Attribute Information:\n",
    "\n",
    "1. Id\n",
    "2. ProductId - unique identifier for the product\n",
    "3. UserId - unqiue identifier for the user\n",
    "4. ProfileName\n",
    "5. HelpfulnessNumerator - number of users who found the review helpful\n",
    "6. HelpfulnessDenominator - number of users who indicated whether they found the review helpful or not\n",
    "7. Score - rating between 1 and 5\n",
    "8. Time - timestamp for the review\n",
    "9. Summary - brief summary of the review\n",
    "10. Text - text of the review\n",
    "\n",
    "\n",
    "#### Objective:\n",
    "Given a review, determine whether the review is positive (rating of 4 or 5) or negative (rating of 1 or 2).\n",
    "\n",
    "<br>\n",
    "[Q] How to determine if a review is positive or negative?<br>\n",
    "<br> \n",
    "[Ans] We could use Score/Rating. A rating of 4 or 5 can be cosnidered as a positive review. A rating of 1 or 2 can be considered as negative one. A review of rating 3 is considered neutral and such reviews are ignored from our analysis. This is an approximate way of determining the polarity (positivity/negativity) of a review."
   ]
  },
  {
   "cell_type": "markdown",
   "metadata": {},
   "source": [
    "# [1]. Reading Data"
   ]
  },
  {
   "cell_type": "markdown",
   "metadata": {},
   "source": [
    "## [1.1] Loading the data\n",
    "\n",
    "In order to load the data, We have used the SQLITE dataset as it is easier to query the data and visualise the data efficiently.\n",
    "<br> \n",
    "Here as we only want to get the global sentiment of the recommendations (positive or negative), we will purposefully ignore all Scores equal to 3. If the score is above 3, then the recommendation wil be set to \"positive\". Otherwise, it will be set to \"negative\"."
   ]
  },
  {
   "cell_type": "code",
   "execution_count": 1,
   "metadata": {},
   "outputs": [
    {
     "name": "stderr",
     "output_type": "stream",
     "text": [
      "F:\\Anaconda\\envs\\newpy\\lib\\site-packages\\gensim\\utils.py:1212: UserWarning: detected Windows; aliasing chunkize to chunkize_serial\n",
      "  warnings.warn(\"detected Windows; aliasing chunkize to chunkize_serial\")\n"
     ]
    }
   ],
   "source": [
    "%matplotlib inline\n",
    "import warnings\n",
    "warnings.filterwarnings(\"ignore\")\n",
    "\n",
    "\n",
    "import sqlite3\n",
    "import pandas as pd\n",
    "import numpy as np\n",
    "import nltk\n",
    "import string\n",
    "import matplotlib.pyplot as plt\n",
    "import seaborn as sns\n",
    "from sklearn.feature_extraction.text import TfidfTransformer\n",
    "from sklearn.feature_extraction.text import TfidfVectorizer\n",
    "\n",
    "from sklearn.feature_extraction.text import CountVectorizer\n",
    "from sklearn.metrics import confusion_matrix\n",
    "from sklearn import metrics\n",
    "from sklearn.metrics import roc_curve, auc\n",
    "from nltk.stem.porter import PorterStemmer\n",
    "from sklearn.model_selection import train_test_split\n",
    "\n",
    "import re\n",
    "# Tutorial about Python regular expressions: https://pymotw.com/2/re/\n",
    "import string\n",
    "from nltk.corpus import stopwords\n",
    "from nltk.stem import PorterStemmer\n",
    "from nltk.stem.wordnet import WordNetLemmatizer\n",
    "\n",
    "from gensim.models import Word2Vec\n",
    "from gensim.models import KeyedVectors\n",
    "import pickle\n",
    "\n",
    "from tqdm import tqdm\n",
    "import os\n",
    "\n",
    "from sklearn.naive_bayes import MultinomialNB\n",
    "from sklearn.metrics import roc_auc_score\n",
    "from prettytable import PrettyTable\n",
    "from math import log\n",
    "\n",
    "from sklearn.linear_model import LogisticRegression\n",
    "from scipy.stats import uniform\n",
    "from statistics import mean, median\n",
    "from sklearn.preprocessing import normalize"
   ]
  },
  {
   "cell_type": "code",
   "execution_count": 2,
   "metadata": {},
   "outputs": [
    {
     "name": "stdout",
     "output_type": "stream",
     "text": [
      "Number of data points in our data (100000, 10)\n"
     ]
    },
    {
     "data": {
      "text/html": [
       "<div>\n",
       "<style scoped>\n",
       "    .dataframe tbody tr th:only-of-type {\n",
       "        vertical-align: middle;\n",
       "    }\n",
       "\n",
       "    .dataframe tbody tr th {\n",
       "        vertical-align: top;\n",
       "    }\n",
       "\n",
       "    .dataframe thead th {\n",
       "        text-align: right;\n",
       "    }\n",
       "</style>\n",
       "<table border=\"1\" class=\"dataframe\">\n",
       "  <thead>\n",
       "    <tr style=\"text-align: right;\">\n",
       "      <th></th>\n",
       "      <th>Id</th>\n",
       "      <th>ProductId</th>\n",
       "      <th>UserId</th>\n",
       "      <th>ProfileName</th>\n",
       "      <th>HelpfulnessNumerator</th>\n",
       "      <th>HelpfulnessDenominator</th>\n",
       "      <th>Score</th>\n",
       "      <th>Time</th>\n",
       "      <th>Summary</th>\n",
       "      <th>Text</th>\n",
       "    </tr>\n",
       "  </thead>\n",
       "  <tbody>\n",
       "    <tr>\n",
       "      <th>0</th>\n",
       "      <td>1</td>\n",
       "      <td>B001E4KFG0</td>\n",
       "      <td>A3SGXH7AUHU8GW</td>\n",
       "      <td>delmartian</td>\n",
       "      <td>1</td>\n",
       "      <td>1</td>\n",
       "      <td>1</td>\n",
       "      <td>1303862400</td>\n",
       "      <td>Good Quality Dog Food</td>\n",
       "      <td>I have bought several of the Vitality canned d...</td>\n",
       "    </tr>\n",
       "    <tr>\n",
       "      <th>1</th>\n",
       "      <td>2</td>\n",
       "      <td>B00813GRG4</td>\n",
       "      <td>A1D87F6ZCVE5NK</td>\n",
       "      <td>dll pa</td>\n",
       "      <td>0</td>\n",
       "      <td>0</td>\n",
       "      <td>0</td>\n",
       "      <td>1346976000</td>\n",
       "      <td>Not as Advertised</td>\n",
       "      <td>Product arrived labeled as Jumbo Salted Peanut...</td>\n",
       "    </tr>\n",
       "    <tr>\n",
       "      <th>2</th>\n",
       "      <td>3</td>\n",
       "      <td>B000LQOCH0</td>\n",
       "      <td>ABXLMWJIXXAIN</td>\n",
       "      <td>Natalia Corres \"Natalia Corres\"</td>\n",
       "      <td>1</td>\n",
       "      <td>1</td>\n",
       "      <td>1</td>\n",
       "      <td>1219017600</td>\n",
       "      <td>\"Delight\" says it all</td>\n",
       "      <td>This is a confection that has been around a fe...</td>\n",
       "    </tr>\n",
       "  </tbody>\n",
       "</table>\n",
       "</div>"
      ],
      "text/plain": [
       "   Id   ProductId          UserId                      ProfileName  \\\n",
       "0   1  B001E4KFG0  A3SGXH7AUHU8GW                       delmartian   \n",
       "1   2  B00813GRG4  A1D87F6ZCVE5NK                           dll pa   \n",
       "2   3  B000LQOCH0   ABXLMWJIXXAIN  Natalia Corres \"Natalia Corres\"   \n",
       "\n",
       "   HelpfulnessNumerator  HelpfulnessDenominator  Score        Time  \\\n",
       "0                     1                       1      1  1303862400   \n",
       "1                     0                       0      0  1346976000   \n",
       "2                     1                       1      1  1219017600   \n",
       "\n",
       "                 Summary                                               Text  \n",
       "0  Good Quality Dog Food  I have bought several of the Vitality canned d...  \n",
       "1      Not as Advertised  Product arrived labeled as Jumbo Salted Peanut...  \n",
       "2  \"Delight\" says it all  This is a confection that has been around a fe...  "
      ]
     },
     "execution_count": 2,
     "metadata": {},
     "output_type": "execute_result"
    }
   ],
   "source": [
    "# using SQLite Table to read data.\n",
    "con = sqlite3.connect('database.sqlite') \n",
    "\n",
    "filtered_data = pd.read_sql_query(\"\"\" SELECT * FROM Reviews WHERE Score != 3 LIMIT 100000\"\"\", con) \n",
    "\n",
    "# Give reviews with Score>3 a positive rating(1), and reviews with a score<3 a negative rating(0).\n",
    "def partition(x):\n",
    "    if x < 3:\n",
    "        return 0\n",
    "    return 1\n",
    "\n",
    "#changing reviews with score less than 3 to be positive and vice-versa\n",
    "actualScore = filtered_data['Score']\n",
    "positiveNegative = actualScore.map(partition) \n",
    "filtered_data['Score'] = positiveNegative\n",
    "print(\"Number of data points in our data\", filtered_data.shape)\n",
    "filtered_data.head(3)"
   ]
  },
  {
   "cell_type": "code",
   "execution_count": 3,
   "metadata": {},
   "outputs": [],
   "source": [
    "display = pd.read_sql_query(\"\"\"\n",
    "SELECT UserId, ProductId, ProfileName, Time, Score, Text, COUNT(*)\n",
    "FROM Reviews\n",
    "GROUP BY UserId\n",
    "HAVING COUNT(*)>1\n",
    "\"\"\", con)"
   ]
  },
  {
   "cell_type": "code",
   "execution_count": 4,
   "metadata": {
    "scrolled": true
   },
   "outputs": [
    {
     "name": "stdout",
     "output_type": "stream",
     "text": [
      "(80668, 7)\n"
     ]
    },
    {
     "data": {
      "text/html": [
       "<div>\n",
       "<style scoped>\n",
       "    .dataframe tbody tr th:only-of-type {\n",
       "        vertical-align: middle;\n",
       "    }\n",
       "\n",
       "    .dataframe tbody tr th {\n",
       "        vertical-align: top;\n",
       "    }\n",
       "\n",
       "    .dataframe thead th {\n",
       "        text-align: right;\n",
       "    }\n",
       "</style>\n",
       "<table border=\"1\" class=\"dataframe\">\n",
       "  <thead>\n",
       "    <tr style=\"text-align: right;\">\n",
       "      <th></th>\n",
       "      <th>UserId</th>\n",
       "      <th>ProductId</th>\n",
       "      <th>ProfileName</th>\n",
       "      <th>Time</th>\n",
       "      <th>Score</th>\n",
       "      <th>Text</th>\n",
       "      <th>COUNT(*)</th>\n",
       "    </tr>\n",
       "  </thead>\n",
       "  <tbody>\n",
       "    <tr>\n",
       "      <th>0</th>\n",
       "      <td>#oc-R115TNMSPFT9I7</td>\n",
       "      <td>B007Y59HVM</td>\n",
       "      <td>Breyton</td>\n",
       "      <td>1331510400</td>\n",
       "      <td>2</td>\n",
       "      <td>Overall its just OK when considering the price...</td>\n",
       "      <td>2</td>\n",
       "    </tr>\n",
       "    <tr>\n",
       "      <th>1</th>\n",
       "      <td>#oc-R11D9D7SHXIJB9</td>\n",
       "      <td>B005HG9ET0</td>\n",
       "      <td>Louis E. Emory \"hoppy\"</td>\n",
       "      <td>1342396800</td>\n",
       "      <td>5</td>\n",
       "      <td>My wife has recurring extreme muscle spasms, u...</td>\n",
       "      <td>3</td>\n",
       "    </tr>\n",
       "    <tr>\n",
       "      <th>2</th>\n",
       "      <td>#oc-R11DNU2NBKQ23Z</td>\n",
       "      <td>B007Y59HVM</td>\n",
       "      <td>Kim Cieszykowski</td>\n",
       "      <td>1348531200</td>\n",
       "      <td>1</td>\n",
       "      <td>This coffee is horrible and unfortunately not ...</td>\n",
       "      <td>2</td>\n",
       "    </tr>\n",
       "    <tr>\n",
       "      <th>3</th>\n",
       "      <td>#oc-R11O5J5ZVQE25C</td>\n",
       "      <td>B005HG9ET0</td>\n",
       "      <td>Penguin Chick</td>\n",
       "      <td>1346889600</td>\n",
       "      <td>5</td>\n",
       "      <td>This will be the bottle that you grab from the...</td>\n",
       "      <td>3</td>\n",
       "    </tr>\n",
       "    <tr>\n",
       "      <th>4</th>\n",
       "      <td>#oc-R12KPBODL2B5ZD</td>\n",
       "      <td>B007OSBE1U</td>\n",
       "      <td>Christopher P. Presta</td>\n",
       "      <td>1348617600</td>\n",
       "      <td>1</td>\n",
       "      <td>I didnt like this coffee. Instead of telling y...</td>\n",
       "      <td>2</td>\n",
       "    </tr>\n",
       "  </tbody>\n",
       "</table>\n",
       "</div>"
      ],
      "text/plain": [
       "               UserId   ProductId             ProfileName        Time  Score  \\\n",
       "0  #oc-R115TNMSPFT9I7  B007Y59HVM                 Breyton  1331510400      2   \n",
       "1  #oc-R11D9D7SHXIJB9  B005HG9ET0  Louis E. Emory \"hoppy\"  1342396800      5   \n",
       "2  #oc-R11DNU2NBKQ23Z  B007Y59HVM        Kim Cieszykowski  1348531200      1   \n",
       "3  #oc-R11O5J5ZVQE25C  B005HG9ET0           Penguin Chick  1346889600      5   \n",
       "4  #oc-R12KPBODL2B5ZD  B007OSBE1U   Christopher P. Presta  1348617600      1   \n",
       "\n",
       "                                                Text  COUNT(*)  \n",
       "0  Overall its just OK when considering the price...         2  \n",
       "1  My wife has recurring extreme muscle spasms, u...         3  \n",
       "2  This coffee is horrible and unfortunately not ...         2  \n",
       "3  This will be the bottle that you grab from the...         3  \n",
       "4  I didnt like this coffee. Instead of telling y...         2  "
      ]
     },
     "execution_count": 4,
     "metadata": {},
     "output_type": "execute_result"
    }
   ],
   "source": [
    "print(display.shape)\n",
    "display.head()"
   ]
  },
  {
   "cell_type": "code",
   "execution_count": 5,
   "metadata": {},
   "outputs": [
    {
     "data": {
      "text/html": [
       "<div>\n",
       "<style scoped>\n",
       "    .dataframe tbody tr th:only-of-type {\n",
       "        vertical-align: middle;\n",
       "    }\n",
       "\n",
       "    .dataframe tbody tr th {\n",
       "        vertical-align: top;\n",
       "    }\n",
       "\n",
       "    .dataframe thead th {\n",
       "        text-align: right;\n",
       "    }\n",
       "</style>\n",
       "<table border=\"1\" class=\"dataframe\">\n",
       "  <thead>\n",
       "    <tr style=\"text-align: right;\">\n",
       "      <th></th>\n",
       "      <th>UserId</th>\n",
       "      <th>ProductId</th>\n",
       "      <th>ProfileName</th>\n",
       "      <th>Time</th>\n",
       "      <th>Score</th>\n",
       "      <th>Text</th>\n",
       "      <th>COUNT(*)</th>\n",
       "    </tr>\n",
       "  </thead>\n",
       "  <tbody>\n",
       "    <tr>\n",
       "      <th>80638</th>\n",
       "      <td>AZY10LLTJ71NX</td>\n",
       "      <td>B006P7E5ZI</td>\n",
       "      <td>undertheshrine \"undertheshrine\"</td>\n",
       "      <td>1334707200</td>\n",
       "      <td>5</td>\n",
       "      <td>I was recommended to try green tea extract to ...</td>\n",
       "      <td>5</td>\n",
       "    </tr>\n",
       "  </tbody>\n",
       "</table>\n",
       "</div>"
      ],
      "text/plain": [
       "              UserId   ProductId                      ProfileName        Time  \\\n",
       "80638  AZY10LLTJ71NX  B006P7E5ZI  undertheshrine \"undertheshrine\"  1334707200   \n",
       "\n",
       "       Score                                               Text  COUNT(*)  \n",
       "80638      5  I was recommended to try green tea extract to ...         5  "
      ]
     },
     "execution_count": 5,
     "metadata": {},
     "output_type": "execute_result"
    }
   ],
   "source": [
    "display[display['UserId']=='AZY10LLTJ71NX']"
   ]
  },
  {
   "cell_type": "code",
   "execution_count": 6,
   "metadata": {},
   "outputs": [
    {
     "data": {
      "text/plain": [
       "393063"
      ]
     },
     "execution_count": 6,
     "metadata": {},
     "output_type": "execute_result"
    }
   ],
   "source": [
    "display['COUNT(*)'].sum()"
   ]
  },
  {
   "cell_type": "markdown",
   "metadata": {},
   "source": [
    "#  [2] Exploratory Data Analysis"
   ]
  },
  {
   "cell_type": "markdown",
   "metadata": {},
   "source": [
    "## [2.1] Data Cleaning: Deduplication\n",
    "\n",
    "It is observed (as shown in the table below) that the reviews data had many duplicate entries. Hence it was necessary to remove duplicates in order to get unbiased results for the analysis of the data.  Following is an example:"
   ]
  },
  {
   "cell_type": "code",
   "execution_count": 7,
   "metadata": {
    "scrolled": false
   },
   "outputs": [
    {
     "data": {
      "text/html": [
       "<div>\n",
       "<style scoped>\n",
       "    .dataframe tbody tr th:only-of-type {\n",
       "        vertical-align: middle;\n",
       "    }\n",
       "\n",
       "    .dataframe tbody tr th {\n",
       "        vertical-align: top;\n",
       "    }\n",
       "\n",
       "    .dataframe thead th {\n",
       "        text-align: right;\n",
       "    }\n",
       "</style>\n",
       "<table border=\"1\" class=\"dataframe\">\n",
       "  <thead>\n",
       "    <tr style=\"text-align: right;\">\n",
       "      <th></th>\n",
       "      <th>Id</th>\n",
       "      <th>ProductId</th>\n",
       "      <th>UserId</th>\n",
       "      <th>ProfileName</th>\n",
       "      <th>HelpfulnessNumerator</th>\n",
       "      <th>HelpfulnessDenominator</th>\n",
       "      <th>Score</th>\n",
       "      <th>Time</th>\n",
       "      <th>Summary</th>\n",
       "      <th>Text</th>\n",
       "    </tr>\n",
       "  </thead>\n",
       "  <tbody>\n",
       "    <tr>\n",
       "      <th>0</th>\n",
       "      <td>78445</td>\n",
       "      <td>B000HDL1RQ</td>\n",
       "      <td>AR5J8UI46CURR</td>\n",
       "      <td>Geetha Krishnan</td>\n",
       "      <td>2</td>\n",
       "      <td>2</td>\n",
       "      <td>5</td>\n",
       "      <td>1199577600</td>\n",
       "      <td>LOACKER QUADRATINI VANILLA WAFERS</td>\n",
       "      <td>DELICIOUS WAFERS. I FIND THAT EUROPEAN WAFERS ...</td>\n",
       "    </tr>\n",
       "    <tr>\n",
       "      <th>1</th>\n",
       "      <td>138317</td>\n",
       "      <td>B000HDOPYC</td>\n",
       "      <td>AR5J8UI46CURR</td>\n",
       "      <td>Geetha Krishnan</td>\n",
       "      <td>2</td>\n",
       "      <td>2</td>\n",
       "      <td>5</td>\n",
       "      <td>1199577600</td>\n",
       "      <td>LOACKER QUADRATINI VANILLA WAFERS</td>\n",
       "      <td>DELICIOUS WAFERS. I FIND THAT EUROPEAN WAFERS ...</td>\n",
       "    </tr>\n",
       "    <tr>\n",
       "      <th>2</th>\n",
       "      <td>138277</td>\n",
       "      <td>B000HDOPYM</td>\n",
       "      <td>AR5J8UI46CURR</td>\n",
       "      <td>Geetha Krishnan</td>\n",
       "      <td>2</td>\n",
       "      <td>2</td>\n",
       "      <td>5</td>\n",
       "      <td>1199577600</td>\n",
       "      <td>LOACKER QUADRATINI VANILLA WAFERS</td>\n",
       "      <td>DELICIOUS WAFERS. I FIND THAT EUROPEAN WAFERS ...</td>\n",
       "    </tr>\n",
       "    <tr>\n",
       "      <th>3</th>\n",
       "      <td>73791</td>\n",
       "      <td>B000HDOPZG</td>\n",
       "      <td>AR5J8UI46CURR</td>\n",
       "      <td>Geetha Krishnan</td>\n",
       "      <td>2</td>\n",
       "      <td>2</td>\n",
       "      <td>5</td>\n",
       "      <td>1199577600</td>\n",
       "      <td>LOACKER QUADRATINI VANILLA WAFERS</td>\n",
       "      <td>DELICIOUS WAFERS. I FIND THAT EUROPEAN WAFERS ...</td>\n",
       "    </tr>\n",
       "    <tr>\n",
       "      <th>4</th>\n",
       "      <td>155049</td>\n",
       "      <td>B000PAQ75C</td>\n",
       "      <td>AR5J8UI46CURR</td>\n",
       "      <td>Geetha Krishnan</td>\n",
       "      <td>2</td>\n",
       "      <td>2</td>\n",
       "      <td>5</td>\n",
       "      <td>1199577600</td>\n",
       "      <td>LOACKER QUADRATINI VANILLA WAFERS</td>\n",
       "      <td>DELICIOUS WAFERS. I FIND THAT EUROPEAN WAFERS ...</td>\n",
       "    </tr>\n",
       "  </tbody>\n",
       "</table>\n",
       "</div>"
      ],
      "text/plain": [
       "       Id   ProductId         UserId      ProfileName  HelpfulnessNumerator  \\\n",
       "0   78445  B000HDL1RQ  AR5J8UI46CURR  Geetha Krishnan                     2   \n",
       "1  138317  B000HDOPYC  AR5J8UI46CURR  Geetha Krishnan                     2   \n",
       "2  138277  B000HDOPYM  AR5J8UI46CURR  Geetha Krishnan                     2   \n",
       "3   73791  B000HDOPZG  AR5J8UI46CURR  Geetha Krishnan                     2   \n",
       "4  155049  B000PAQ75C  AR5J8UI46CURR  Geetha Krishnan                     2   \n",
       "\n",
       "   HelpfulnessDenominator  Score        Time  \\\n",
       "0                       2      5  1199577600   \n",
       "1                       2      5  1199577600   \n",
       "2                       2      5  1199577600   \n",
       "3                       2      5  1199577600   \n",
       "4                       2      5  1199577600   \n",
       "\n",
       "                             Summary  \\\n",
       "0  LOACKER QUADRATINI VANILLA WAFERS   \n",
       "1  LOACKER QUADRATINI VANILLA WAFERS   \n",
       "2  LOACKER QUADRATINI VANILLA WAFERS   \n",
       "3  LOACKER QUADRATINI VANILLA WAFERS   \n",
       "4  LOACKER QUADRATINI VANILLA WAFERS   \n",
       "\n",
       "                                                Text  \n",
       "0  DELICIOUS WAFERS. I FIND THAT EUROPEAN WAFERS ...  \n",
       "1  DELICIOUS WAFERS. I FIND THAT EUROPEAN WAFERS ...  \n",
       "2  DELICIOUS WAFERS. I FIND THAT EUROPEAN WAFERS ...  \n",
       "3  DELICIOUS WAFERS. I FIND THAT EUROPEAN WAFERS ...  \n",
       "4  DELICIOUS WAFERS. I FIND THAT EUROPEAN WAFERS ...  "
      ]
     },
     "execution_count": 7,
     "metadata": {},
     "output_type": "execute_result"
    }
   ],
   "source": [
    "display= pd.read_sql_query(\"\"\"\n",
    "SELECT *\n",
    "FROM Reviews\n",
    "WHERE Score != 3 AND UserId=\"AR5J8UI46CURR\"\n",
    "ORDER BY ProductID\n",
    "\"\"\", con)\n",
    "display.head()"
   ]
  },
  {
   "cell_type": "markdown",
   "metadata": {},
   "source": [
    "As it can be seen above that same user has multiple reviews with same values for HelpfulnessNumerator, HelpfulnessDenominator, Score, Time, Summary and Text and on doing analysis it was found that <br>\n",
    "<br> \n",
    "ProductId=B000HDOPZG was Loacker Quadratini Vanilla Wafer Cookies, 8.82-Ounce Packages (Pack of 8)<br>\n",
    "<br> \n",
    "ProductId=B000HDL1RQ was Loacker Quadratini Lemon Wafer Cookies, 8.82-Ounce Packages (Pack of 8) and so on<br>\n",
    "\n",
    "It was inferred after analysis that reviews with same parameters other than ProductId belonged to the same product just having different flavour or quantity. Hence in order to reduce redundancy, we need to eliminate the rows having same parameters.<br>\n",
    "\n",
    "We first sort the data according to ProductId and then just keep the first similar product review and delelte the others."
   ]
  },
  {
   "cell_type": "code",
   "execution_count": 8,
   "metadata": {},
   "outputs": [],
   "source": [
    "#Sorting data according to ProductId in ascending order\n",
    "sorted_data=filtered_data.sort_values('ProductId', axis=0, ascending=True, inplace=False, kind='quicksort', na_position='last')"
   ]
  },
  {
   "cell_type": "code",
   "execution_count": 9,
   "metadata": {},
   "outputs": [
    {
     "data": {
      "text/plain": [
       "(87775, 10)"
      ]
     },
     "execution_count": 9,
     "metadata": {},
     "output_type": "execute_result"
    }
   ],
   "source": [
    "#Deduplication of entries\n",
    "final=sorted_data.drop_duplicates(subset={\"UserId\",\"ProfileName\",\"Time\",\"Text\"}, keep='first', inplace=False)\n",
    "final.shape"
   ]
  },
  {
   "cell_type": "code",
   "execution_count": 10,
   "metadata": {},
   "outputs": [
    {
     "data": {
      "text/plain": [
       "87.775"
      ]
     },
     "execution_count": 10,
     "metadata": {},
     "output_type": "execute_result"
    }
   ],
   "source": [
    "#Checking to see how much % of data still remains\n",
    "(final['Id'].size*1.0)/(filtered_data['Id'].size*1.0)*100"
   ]
  },
  {
   "cell_type": "markdown",
   "metadata": {},
   "source": [
    "<b>Observation:-</b> It was also seen that in two rows given below the value of HelpfulnessNumerator is greater than HelpfulnessDenominator which is not practically possible hence these two rows too are removed from calcualtions"
   ]
  },
  {
   "cell_type": "code",
   "execution_count": 11,
   "metadata": {},
   "outputs": [
    {
     "data": {
      "text/html": [
       "<div>\n",
       "<style scoped>\n",
       "    .dataframe tbody tr th:only-of-type {\n",
       "        vertical-align: middle;\n",
       "    }\n",
       "\n",
       "    .dataframe tbody tr th {\n",
       "        vertical-align: top;\n",
       "    }\n",
       "\n",
       "    .dataframe thead th {\n",
       "        text-align: right;\n",
       "    }\n",
       "</style>\n",
       "<table border=\"1\" class=\"dataframe\">\n",
       "  <thead>\n",
       "    <tr style=\"text-align: right;\">\n",
       "      <th></th>\n",
       "      <th>Id</th>\n",
       "      <th>ProductId</th>\n",
       "      <th>UserId</th>\n",
       "      <th>ProfileName</th>\n",
       "      <th>HelpfulnessNumerator</th>\n",
       "      <th>HelpfulnessDenominator</th>\n",
       "      <th>Score</th>\n",
       "      <th>Time</th>\n",
       "      <th>Summary</th>\n",
       "      <th>Text</th>\n",
       "    </tr>\n",
       "  </thead>\n",
       "  <tbody>\n",
       "    <tr>\n",
       "      <th>0</th>\n",
       "      <td>64422</td>\n",
       "      <td>B000MIDROQ</td>\n",
       "      <td>A161DK06JJMCYF</td>\n",
       "      <td>J. E. Stephens \"Jeanne\"</td>\n",
       "      <td>3</td>\n",
       "      <td>1</td>\n",
       "      <td>5</td>\n",
       "      <td>1224892800</td>\n",
       "      <td>Bought This for My Son at College</td>\n",
       "      <td>My son loves spaghetti so I didn't hesitate or...</td>\n",
       "    </tr>\n",
       "    <tr>\n",
       "      <th>1</th>\n",
       "      <td>44737</td>\n",
       "      <td>B001EQ55RW</td>\n",
       "      <td>A2V0I904FH7ABY</td>\n",
       "      <td>Ram</td>\n",
       "      <td>3</td>\n",
       "      <td>2</td>\n",
       "      <td>4</td>\n",
       "      <td>1212883200</td>\n",
       "      <td>Pure cocoa taste with crunchy almonds inside</td>\n",
       "      <td>It was almost a 'love at first bite' - the per...</td>\n",
       "    </tr>\n",
       "  </tbody>\n",
       "</table>\n",
       "</div>"
      ],
      "text/plain": [
       "      Id   ProductId          UserId              ProfileName  \\\n",
       "0  64422  B000MIDROQ  A161DK06JJMCYF  J. E. Stephens \"Jeanne\"   \n",
       "1  44737  B001EQ55RW  A2V0I904FH7ABY                      Ram   \n",
       "\n",
       "   HelpfulnessNumerator  HelpfulnessDenominator  Score        Time  \\\n",
       "0                     3                       1      5  1224892800   \n",
       "1                     3                       2      4  1212883200   \n",
       "\n",
       "                                        Summary  \\\n",
       "0             Bought This for My Son at College   \n",
       "1  Pure cocoa taste with crunchy almonds inside   \n",
       "\n",
       "                                                Text  \n",
       "0  My son loves spaghetti so I didn't hesitate or...  \n",
       "1  It was almost a 'love at first bite' - the per...  "
      ]
     },
     "execution_count": 11,
     "metadata": {},
     "output_type": "execute_result"
    }
   ],
   "source": [
    "display= pd.read_sql_query(\"\"\"\n",
    "SELECT *\n",
    "FROM Reviews\n",
    "WHERE Score != 3 AND Id=44737 OR Id=64422\n",
    "ORDER BY ProductID\n",
    "\"\"\", con)\n",
    "\n",
    "display.head()"
   ]
  },
  {
   "cell_type": "code",
   "execution_count": 12,
   "metadata": {},
   "outputs": [],
   "source": [
    "final=final[final.HelpfulnessNumerator<=final.HelpfulnessDenominator]"
   ]
  },
  {
   "cell_type": "code",
   "execution_count": 13,
   "metadata": {},
   "outputs": [
    {
     "name": "stdout",
     "output_type": "stream",
     "text": [
      "(87773, 10)\n"
     ]
    },
    {
     "data": {
      "text/plain": [
       "1    73592\n",
       "0    14181\n",
       "Name: Score, dtype: int64"
      ]
     },
     "execution_count": 13,
     "metadata": {},
     "output_type": "execute_result"
    }
   ],
   "source": [
    "#Before starting the next phase of preprocessing lets see the number of entries left\n",
    "print(final.shape)\n",
    "\n",
    "#How many positive and negative reviews are present in our dataset?\n",
    "final['Score'].value_counts()"
   ]
  },
  {
   "cell_type": "markdown",
   "metadata": {},
   "source": [
    "#  [3] Preprocessing"
   ]
  },
  {
   "cell_type": "markdown",
   "metadata": {},
   "source": [
    "## [3.1].  Preprocessing Review Text\n",
    "\n",
    "Now that we have finished deduplication our data requires some preprocessing before we go on further with analysis and making the prediction model.\n",
    "\n",
    "Hence in the Preprocessing phase we do the following in the order below:-\n",
    "\n",
    "1. Begin by removing the html tags\n",
    "2. Remove any punctuations or limited set of special characters like , or . or # etc.\n",
    "3. Check if the word is made up of english letters and is not alpha-numeric\n",
    "4. Check to see if the length of the word is greater than 2\n",
    "5. Convert the word to lowercase\n",
    "6. Remove Stopwords\n",
    "7. Finally Snowball Stemming the word (it was obsereved to be better than Porter Stemming)<br>\n",
    "\n",
    "After which we collect the words used to describe positive and negative reviews"
   ]
  },
  {
   "cell_type": "code",
   "execution_count": 14,
   "metadata": {},
   "outputs": [
    {
     "name": "stdout",
     "output_type": "stream",
     "text": [
      "My dogs loves this chicken but its a product from China, so we wont be buying it anymore.  Its very hard to find any chicken products made in the USA but they are out there, but this one isnt.  Its too bad too because its a good product but I wont take any chances till they know what is going on with the china imports.\n",
      "==================================================\n",
      "The Candy Blocks were a nice visual for the Lego Birthday party but the candy has little taste to it.  Very little of the 2 lbs that I bought were eaten and I threw the rest away.  I would not buy the candy again.\n",
      "==================================================\n",
      "was way to hot for my blood, took a bite and did a jig  lol\n",
      "==================================================\n",
      "My dog LOVES these treats. They tend to have a very strong fish oil smell. So if you are afraid of the fishy smell, don't get it. But I think my dog likes it because of the smell. These treats are really small in size. They are great for training. You can give your dog several of these without worrying about him over eating. Amazon's price was much more reasonable than any other retailer. You can buy a 1 pound bag on Amazon for almost the same price as a 6 ounce bag at other retailers. It's definitely worth it to buy a big bag if your dog eats them a lot.\n",
      "==================================================\n"
     ]
    }
   ],
   "source": [
    "# printing some random reviews\n",
    "sent_0 = final['Text'].values[0]\n",
    "print(sent_0)\n",
    "print(\"=\"*50)\n",
    "\n",
    "sent_1000 = final['Text'].values[1000]\n",
    "print(sent_1000)\n",
    "print(\"=\"*50)\n",
    "\n",
    "sent_1500 = final['Text'].values[1500]\n",
    "print(sent_1500)\n",
    "print(\"=\"*50)\n",
    "\n",
    "sent_4900 = final['Text'].values[4900]\n",
    "print(sent_4900)\n",
    "print(\"=\"*50)"
   ]
  },
  {
   "cell_type": "code",
   "execution_count": 15,
   "metadata": {},
   "outputs": [
    {
     "name": "stdout",
     "output_type": "stream",
     "text": [
      "My dogs loves this chicken but its a product from China, so we wont be buying it anymore.  Its very hard to find any chicken products made in the USA but they are out there, but this one isnt.  Its too bad too because its a good product but I wont take any chances till they know what is going on with the china imports.\n"
     ]
    }
   ],
   "source": [
    "# remove urls from text python: https://stackoverflow.com/a/40823105/4084039\n",
    "sent_0 = re.sub(r\"http\\S+\", \"\", sent_0)\n",
    "sent_1000 = re.sub(r\"http\\S+\", \"\", sent_1000)\n",
    "sent_150 = re.sub(r\"http\\S+\", \"\", sent_1500)\n",
    "sent_4900 = re.sub(r\"http\\S+\", \"\", sent_4900)\n",
    "\n",
    "print(sent_0)"
   ]
  },
  {
   "cell_type": "code",
   "execution_count": 16,
   "metadata": {},
   "outputs": [
    {
     "name": "stdout",
     "output_type": "stream",
     "text": [
      "My dogs loves this chicken but its a product from China, so we wont be buying it anymore.  Its very hard to find any chicken products made in the USA but they are out there, but this one isnt.  Its too bad too because its a good product but I wont take any chances till they know what is going on with the china imports.\n",
      "==================================================\n",
      "The Candy Blocks were a nice visual for the Lego Birthday party but the candy has little taste to it.  Very little of the 2 lbs that I bought were eaten and I threw the rest away.  I would not buy the candy again.\n",
      "==================================================\n",
      "was way to hot for my blood, took a bite and did a jig  lol\n",
      "==================================================\n",
      "My dog LOVES these treats. They tend to have a very strong fish oil smell. So if you are afraid of the fishy smell, don't get it. But I think my dog likes it because of the smell. These treats are really small in size. They are great for training. You can give your dog several of these without worrying about him over eating. Amazon's price was much more reasonable than any other retailer. You can buy a 1 pound bag on Amazon for almost the same price as a 6 ounce bag at other retailers. It's definitely worth it to buy a big bag if your dog eats them a lot.\n"
     ]
    }
   ],
   "source": [
    "# https://stackoverflow.com/questions/16206380/python-beautifulsoup-how-to-remove-all-tags-from-an-element\n",
    "from bs4 import BeautifulSoup\n",
    "\n",
    "soup = BeautifulSoup(sent_0, 'lxml')\n",
    "text = soup.get_text()\n",
    "print(text)\n",
    "print(\"=\"*50)\n",
    "\n",
    "soup = BeautifulSoup(sent_1000, 'lxml')\n",
    "text = soup.get_text()\n",
    "print(text)\n",
    "print(\"=\"*50)\n",
    "\n",
    "soup = BeautifulSoup(sent_1500, 'lxml')\n",
    "text = soup.get_text()\n",
    "print(text)\n",
    "print(\"=\"*50)\n",
    "\n",
    "soup = BeautifulSoup(sent_4900, 'lxml')\n",
    "text = soup.get_text()\n",
    "print(text)"
   ]
  },
  {
   "cell_type": "code",
   "execution_count": 17,
   "metadata": {},
   "outputs": [],
   "source": [
    "# https://stackoverflow.com/a/47091490/4084039\n",
    "import re\n",
    "\n",
    "def decontracted(phrase):\n",
    "    # specific\n",
    "    phrase = re.sub(r\"won't\", \"will not\", phrase)\n",
    "    phrase = re.sub(r\"can\\'t\", \"can not\", phrase)\n",
    "\n",
    "    # general\n",
    "    phrase = re.sub(r\"n\\'t\", \" not\", phrase)\n",
    "    phrase = re.sub(r\"\\'re\", \" are\", phrase)\n",
    "    phrase = re.sub(r\"\\'s\", \" is\", phrase)\n",
    "    phrase = re.sub(r\"\\'d\", \" would\", phrase)\n",
    "    phrase = re.sub(r\"\\'ll\", \" will\", phrase)\n",
    "    phrase = re.sub(r\"\\'t\", \" not\", phrase)\n",
    "    phrase = re.sub(r\"\\'ve\", \" have\", phrase)\n",
    "    phrase = re.sub(r\"\\'m\", \" am\", phrase)\n",
    "    return phrase"
   ]
  },
  {
   "cell_type": "code",
   "execution_count": 18,
   "metadata": {},
   "outputs": [
    {
     "name": "stdout",
     "output_type": "stream",
     "text": [
      "was way to hot for my blood, took a bite and did a jig  lol\n",
      "==================================================\n"
     ]
    }
   ],
   "source": [
    "sent_1500 = decontracted(sent_1500)\n",
    "print(sent_1500)\n",
    "print(\"=\"*50)"
   ]
  },
  {
   "cell_type": "code",
   "execution_count": 19,
   "metadata": {},
   "outputs": [
    {
     "name": "stdout",
     "output_type": "stream",
     "text": [
      "My dogs loves this chicken but its a product from China, so we wont be buying it anymore.  Its very hard to find any chicken products made in the USA but they are out there, but this one isnt.  Its too bad too because its a good product but I wont take any chances till they know what is going on with the china imports.\n"
     ]
    }
   ],
   "source": [
    "#remove words with numbers python: https://stackoverflow.com/a/18082370/4084039\n",
    "sent_0 = re.sub(\"\\S*\\d\\S*\", \"\", sent_0).strip()\n",
    "print(sent_0)"
   ]
  },
  {
   "cell_type": "code",
   "execution_count": 20,
   "metadata": {},
   "outputs": [
    {
     "name": "stdout",
     "output_type": "stream",
     "text": [
      "was way to hot for my blood took a bite and did a jig lol\n"
     ]
    }
   ],
   "source": [
    "#remove spacial character: https://stackoverflow.com/a/5843547/4084039\n",
    "sent_1500 = re.sub('[^A-Za-z0-9]+', ' ', sent_1500)\n",
    "print(sent_1500)"
   ]
  },
  {
   "cell_type": "code",
   "execution_count": 21,
   "metadata": {},
   "outputs": [],
   "source": [
    "# https://gist.github.com/sebleier/554280\n",
    "# we are removing the words from the stop words list: 'no', 'nor', 'not'\n",
    "# <br /><br /> ==> after the above steps, we are getting \"br br\"\n",
    "# we are including them into stop words list\n",
    "# instead of <br /> if we have <br/> these tags would have revmoved in the 1st step\n",
    "\n",
    "stopwords= set(['br', 'the', 'i', 'me', 'my', 'myself', 'we', 'our', 'ours', 'ourselves', 'you', \"you're\", \"you've\",\\\n",
    "            \"you'll\", \"you'd\", 'your', 'yours', 'yourself', 'yourselves', 'he', 'him', 'his', 'himself', \\\n",
    "            'she', \"she's\", 'her', 'hers', 'herself', 'it', \"it's\", 'its', 'itself', 'they', 'them', 'their',\\\n",
    "            'theirs', 'themselves', 'what', 'which', 'who', 'whom', 'this', 'that', \"that'll\", 'these', 'those', \\\n",
    "            'am', 'is', 'are', 'was', 'were', 'be', 'been', 'being', 'have', 'has', 'had', 'having', 'do', 'does', \\\n",
    "            'did', 'doing', 'a', 'an', 'the', 'and', 'but', 'if', 'or', 'because', 'as', 'until', 'while', 'of', \\\n",
    "            'at', 'by', 'for', 'with', 'about', 'against', 'between', 'into', 'through', 'during', 'before', 'after',\\\n",
    "            'above', 'below', 'to', 'from', 'up', 'down', 'in', 'out', 'on', 'off', 'over', 'under', 'again', 'further',\\\n",
    "            'then', 'once', 'here', 'there', 'when', 'where', 'why', 'how', 'all', 'any', 'both', 'each', 'few', 'more',\\\n",
    "            'most', 'other', 'some', 'such', 'only', 'own', 'same', 'so', 'than', 'too', 'very', \\\n",
    "            's', 't', 'can', 'will', 'just', 'don', \"don't\", 'should', \"should've\", 'now', 'd', 'll', 'm', 'o', 're', \\\n",
    "            've', 'y', 'ain', 'aren', \"aren't\", 'couldn', \"couldn't\", 'didn', \"didn't\", 'doesn', \"doesn't\", 'hadn',\\\n",
    "            \"hadn't\", 'hasn', \"hasn't\", 'haven', \"haven't\", 'isn', \"isn't\", 'ma', 'mightn', \"mightn't\", 'mustn',\\\n",
    "            \"mustn't\", 'needn', \"needn't\", 'shan', \"shan't\", 'shouldn', \"shouldn't\", 'wasn', \"wasn't\", 'weren', \"weren't\", \\\n",
    "            'won', \"won't\", 'wouldn', \"wouldn't\"])"
   ]
  },
  {
   "cell_type": "code",
   "execution_count": 22,
   "metadata": {},
   "outputs": [
    {
     "name": "stderr",
     "output_type": "stream",
     "text": [
      "100%|██████████████████████████████████████████████████████████████████████████| 87773/87773 [01:11<00:00, 1224.15it/s]\n"
     ]
    }
   ],
   "source": [
    "# Combining all the above stundents \n",
    "from tqdm import tqdm\n",
    "preprocessed_reviews = []\n",
    "# tqdm is for printing the status bar\n",
    "for sentance in tqdm(final['Text'].values):\n",
    "    sentance = re.sub(r\"http\\S+\", \"\", sentance)\n",
    "    sentance = BeautifulSoup(sentance, 'lxml').get_text()\n",
    "    sentance = decontracted(sentance)\n",
    "    sentance = re.sub(\"\\S*\\d\\S*\", \"\", sentance).strip()\n",
    "    sentance = re.sub('[^A-Za-z]+', ' ', sentance)\n",
    "    # https://gist.github.com/sebleier/554280\n",
    "    sentance = ' '.join(e.lower() for e in sentance.split() if e.lower() not in stopwords)\n",
    "    preprocessed_reviews.append(sentance.strip())"
   ]
  },
  {
   "cell_type": "code",
   "execution_count": 23,
   "metadata": {},
   "outputs": [
    {
     "data": {
      "text/plain": [
       "'way hot blood took bite jig lol'"
      ]
     },
     "execution_count": 23,
     "metadata": {},
     "output_type": "execute_result"
    }
   ],
   "source": [
    "preprocessed_reviews[1500]"
   ]
  },
  {
   "cell_type": "markdown",
   "metadata": {},
   "source": [
    "## Train/CV/Test Split:"
   ]
  },
  {
   "cell_type": "code",
   "execution_count": 24,
   "metadata": {},
   "outputs": [
    {
     "name": "stdout",
     "output_type": "stream",
     "text": [
      "Number of data points in Train data: 43008\n",
      "Number of data points in CV data: 18433\n",
      "Number of data points in Test data: 26332\n"
     ]
    }
   ],
   "source": [
    "y_true = final['Score'].values\n",
    "\n",
    "final['CleanText'] = preprocessed_reviews\n",
    "\n",
    "X_train_df, X_test, Y_train_df, Y_test = train_test_split(final['CleanText'], y_true, stratify=y_true, test_size=0.3)\n",
    "X_train, X_cv, Y_train, Y_cv = train_test_split(X_train_df, Y_train_df, stratify=Y_train_df, test_size=0.3)\n",
    "\n",
    "print('Number of data points in Train data:', X_train.shape[0])\n",
    "print('Number of data points in CV data:', X_cv.shape[0])\n",
    "print('Number of data points in Test data:', X_test.shape[0])"
   ]
  },
  {
   "cell_type": "markdown",
   "metadata": {},
   "source": [
    "# [4] Featurization"
   ]
  },
  {
   "cell_type": "markdown",
   "metadata": {},
   "source": [
    "## [4.1] BAG OF WORDS"
   ]
  },
  {
   "cell_type": "code",
   "execution_count": 25,
   "metadata": {},
   "outputs": [
    {
     "name": "stdout",
     "output_type": "stream",
     "text": [
      "some feature names  ['aa', 'aaa', 'aaaa', 'aaaaa', 'aaaaaaarrrrrggghhh', 'aaaah', 'aaaand', 'aaah', 'aaahs', 'aaf']\n",
      "==================================================\n",
      "the type of count vectorizer  <class 'scipy.sparse.csr.csr_matrix'>\n",
      "the shape of our text BOW vectorizer  (43008, 38791)\n",
      "the number of unique words  38791\n"
     ]
    }
   ],
   "source": [
    "#BoW\n",
    "count_vect = CountVectorizer() #in scikit-learn\n",
    "count_vect.fit(X_train)\n",
    "print(\"some feature names \", count_vect.get_feature_names()[:10])\n",
    "print('='*50)\n",
    "\n",
    "final_counts = count_vect.transform(X_train)\n",
    "print(\"the type of count vectorizer \",type(final_counts))\n",
    "print(\"the shape of our text BOW vectorizer \",final_counts.get_shape())\n",
    "print(\"the number of unique words \", final_counts.get_shape()[1])\n",
    "\n",
    "#transform test data\n",
    "cv_counts = count_vect.transform(X_cv)\n",
    "test_counts = count_vect.transform(X_test)"
   ]
  },
  {
   "cell_type": "markdown",
   "metadata": {},
   "source": [
    "## [4.2] TF-IDF"
   ]
  },
  {
   "cell_type": "code",
   "execution_count": 26,
   "metadata": {},
   "outputs": [
    {
     "name": "stdout",
     "output_type": "stream",
     "text": [
      "some sample features(unique words in the corpus) ['abandoned', 'ability', 'able', 'able add', 'able buy', 'able drink', 'able eat', 'able enjoy', 'able find', 'able get']\n",
      "==================================================\n",
      "the type of count vectorizer  <class 'scipy.sparse.csr.csr_matrix'>\n",
      "the shape of out text TFIDF vectorizer  (43008, 25434)\n",
      "the number of unique words including both unigrams and bigrams  25434\n"
     ]
    }
   ],
   "source": [
    "tf_idf_vect = TfidfVectorizer(ngram_range=(1,2), min_df=10)\n",
    "tf_idf_vect.fit(X_train)\n",
    "print(\"some sample features(unique words in the corpus)\",tf_idf_vect.get_feature_names()[0:10])\n",
    "print('='*50)\n",
    "\n",
    "final_tf_idf = tf_idf_vect.transform(X_train)\n",
    "print(\"the type of count vectorizer \",type(final_tf_idf))\n",
    "print(\"the shape of out text TFIDF vectorizer \",final_tf_idf.get_shape())\n",
    "print(\"the number of unique words including both unigrams and bigrams \", final_tf_idf.get_shape()[1])\n",
    "\n",
    "cv_tfidf = tf_idf_vect.transform(X_cv)\n",
    "test_tfidf = tf_idf_vect.transform(X_test)"
   ]
  },
  {
   "cell_type": "markdown",
   "metadata": {},
   "source": [
    "## [4.3] Word2Vec"
   ]
  },
  {
   "cell_type": "code",
   "execution_count": 27,
   "metadata": {},
   "outputs": [],
   "source": [
    "# Train your own Word2Vec model using your own text corpus\n",
    "i=0\n",
    "list_of_sentance=[]\n",
    "for sentance in preprocessed_reviews:\n",
    "    list_of_sentance.append(sentance.split())"
   ]
  },
  {
   "cell_type": "code",
   "execution_count": 28,
   "metadata": {
    "scrolled": true
   },
   "outputs": [
    {
     "name": "stderr",
     "output_type": "stream",
     "text": [
      "F:\\Anaconda\\envs\\newpy\\lib\\site-packages\\gensim\\models\\base_any2vec.py:743: UserWarning: C extension not loaded, training will be slow. Install a C compiler and reinstall gensim for fast training.\n",
      "  \"C extension not loaded, training will be slow. \"\n"
     ]
    },
    {
     "name": "stdout",
     "output_type": "stream",
     "text": [
      "[('fantastic', 0.8537033796310425), ('terrific', 0.8221006989479065), ('awesome', 0.8203023672103882), ('good', 0.8078835010528564), ('excellent', 0.802264928817749), ('wonderful', 0.7863800525665283), ('perfect', 0.7409610152244568), ('fabulous', 0.7178921699523926), ('amazing', 0.7080708742141724), ('decent', 0.6996858716011047)]\n",
      "==================================================\n",
      "[('greatest', 0.7547718286514282), ('tastiest', 0.7385015487670898), ('best', 0.7266129851341248), ('horrible', 0.6565895080566406), ('disgusting', 0.6393200159072876), ('surpass', 0.622346043586731), ('closest', 0.6188850998878479), ('terrible', 0.6157119870185852), ('awful', 0.6142698526382446), ('nastiest', 0.6087859869003296)]\n"
     ]
    }
   ],
   "source": [
    "# http://kavita-ganesan.com/gensim-word2vec-tutorial-starter-code/#.W17SRFAzZPY\n",
    "is_your_ram_gt_16g=False\n",
    "want_to_use_google_w2v = False\n",
    "want_to_train_w2v = True\n",
    "\n",
    "if want_to_train_w2v:\n",
    "    # min_count = 5 considers only words that occured atleast 5 times\n",
    "    w2v_model= Word2Vec(list_of_sentance,min_count=5,size=50, workers=4)\n",
    "    print(w2v_model.wv.most_similar('great'))\n",
    "    print('='*50)\n",
    "    print(w2v_model.wv.most_similar('worst'))\n",
    "    \n",
    "elif want_to_use_google_w2v and is_your_ram_gt_16g:\n",
    "    if os.path.isfile('GoogleNews-vectors-negative300.bin'):\n",
    "        w2v_model=KeyedVectors.load_word2vec_format('GoogleNews-vectors-negative300.bin', binary=True)\n",
    "        print(w2v_model.wv.most_similar('great'))\n",
    "        print(w2v_model.wv.most_similar('worst'))\n",
    "    else:\n",
    "        print(\"you don't have gogole's word2vec file, keep want_to_train_w2v = True, to train your own w2v \")"
   ]
  },
  {
   "cell_type": "code",
   "execution_count": 29,
   "metadata": {},
   "outputs": [
    {
     "name": "stdout",
     "output_type": "stream",
     "text": [
      "number of words that occured minimum 5 times  17386\n",
      "sample words  ['dogs', 'loves', 'chicken', 'product', 'china', 'wont', 'buying', 'anymore', 'hard', 'find', 'products', 'made', 'usa', 'one', 'isnt', 'bad', 'good', 'take', 'chances', 'till', 'know', 'going', 'imports', 'love', 'saw', 'pet', 'store', 'tag', 'attached', 'regarding', 'satisfied', 'safe', 'infestation', 'literally', 'everywhere', 'flying', 'around', 'kitchen', 'bought', 'hoping', 'least', 'get', 'rid', 'weeks', 'fly', 'stuck', 'squishing', 'buggers', 'success', 'rate']\n"
     ]
    }
   ],
   "source": [
    "w2v_words = list(w2v_model.wv.vocab)\n",
    "print(\"number of words that occured minimum 5 times \",len(w2v_words))\n",
    "print(\"sample words \", w2v_words[0:50])"
   ]
  },
  {
   "cell_type": "markdown",
   "metadata": {},
   "source": [
    "## [4.4.1] Converting text into vectors using Avg W2V, TFIDF-W2V"
   ]
  },
  {
   "cell_type": "markdown",
   "metadata": {},
   "source": [
    "#### [4.4.1.1] Avg W2v"
   ]
  },
  {
   "cell_type": "code",
   "execution_count": 30,
   "metadata": {},
   "outputs": [
    {
     "name": "stderr",
     "output_type": "stream",
     "text": [
      "100%|███████████████████████████████████████████████████████████████████████████| 43008/43008 [03:46<00:00, 190.26it/s]\n"
     ]
    },
    {
     "name": "stdout",
     "output_type": "stream",
     "text": [
      "43008\n",
      "50\n"
     ]
    },
    {
     "name": "stderr",
     "output_type": "stream",
     "text": [
      "100%|███████████████████████████████████████████████████████████████████████████| 18433/18433 [01:28<00:00, 207.72it/s]\n",
      "100%|██████████████████████████████████████████████████████████████████████████| 26332/26332 [7:51:23<00:00,  1.07s/it]\n"
     ]
    }
   ],
   "source": [
    "# compute average word2vec for each review.\n",
    "def convert(list_of_sentance):\n",
    "    sent_vectors = []; # the avg-w2v for each sentence/review is stored in this list\n",
    "    for sent in tqdm(list_of_sentance): # for each review/sentence\n",
    "        sent_vec = np.zeros(50)\n",
    "        cnt_words =0; # num of words with a valid vector in the sentence/review\n",
    "        for word in sent: # for each word in a review/sentence\n",
    "            if word in w2v_words:\n",
    "                vec = w2v_model.wv[word]\n",
    "                sent_vec += vec\n",
    "                cnt_words += 1\n",
    "        if cnt_words != 0:\n",
    "            sent_vec /= cnt_words\n",
    "        sent_vectors.append(sent_vec)\n",
    "    return sent_vectors\n",
    "\n",
    "#train\n",
    "i=0\n",
    "train_list_of_sentance=[]\n",
    "for sentance in X_train:\n",
    "    train_list_of_sentance.append(sentance.split())\n",
    "    \n",
    "train_sent_vec = convert(train_list_of_sentance)\n",
    "print(len(train_sent_vec))\n",
    "print(len(train_sent_vec[0]))\n",
    "\n",
    "#cv\n",
    "i=0\n",
    "cv_list_of_sentance=[]\n",
    "for sentance in X_cv:\n",
    "    cv_list_of_sentance.append(sentance.split())\n",
    "    \n",
    "cv_sent_vec = convert(cv_list_of_sentance)\n",
    "\n",
    "#test\n",
    "i=0\n",
    "test_list_of_sentance=[]\n",
    "for sentance in X_test:\n",
    "    test_list_of_sentance.append(sentance.split())\n",
    "    \n",
    "test_sent_vec = convert(test_list_of_sentance)\n",
    "\n",
    "train_vec = normalize(np.nan_to_num(train_sent_vec))\n",
    "cv_vec = normalize(np.nan_to_num(cv_sent_vec))\n",
    "test_vec = normalize(np.nan_to_num(test_sent_vec))"
   ]
  },
  {
   "cell_type": "markdown",
   "metadata": {},
   "source": [
    "#### [4.4.1.2] TFIDF weighted W2v"
   ]
  },
  {
   "cell_type": "code",
   "execution_count": 31,
   "metadata": {},
   "outputs": [],
   "source": [
    "weighted_model = TfidfVectorizer()\n",
    "tf_idf_matrix = weighted_model.fit_transform(X_train)\n",
    "# we are converting a dictionary with word as a key, and the idf as a value\n",
    "dictionary = dict(zip(weighted_model.get_feature_names(), list(weighted_model.idf_)))"
   ]
  },
  {
   "cell_type": "code",
   "execution_count": 32,
   "metadata": {
    "scrolled": true
   },
   "outputs": [
    {
     "name": "stderr",
     "output_type": "stream",
     "text": [
      "100%|████████████████████████████████████████████████████████████████████████████| 43008/43008 [58:48<00:00, 12.19it/s]\n"
     ]
    },
    {
     "name": "stdout",
     "output_type": "stream",
     "text": [
      "Length of TF-IDF weighted vector :  43008\n"
     ]
    },
    {
     "name": "stderr",
     "output_type": "stream",
     "text": [
      "100%|████████████████████████████████████████████████████████████████████████████| 18433/18433 [15:16<00:00, 20.11it/s]\n",
      "100%|████████████████████████████████████████████████████████████████████████████| 26332/26332 [22:39<00:00, 19.36it/s]\n"
     ]
    }
   ],
   "source": [
    "# TF-IDF weighted Word2Vec\n",
    "tfidf_feat = weighted_model.get_feature_names() # tfidf words/col-names\n",
    "# final_tf_idf is the sparse matrix with row= sentence, col=word and cell_val = tfidf\n",
    "\n",
    "def convert_sent(list_of_sentance):\n",
    "    tfidf_sent_vectors = []; # the tfidf-w2v for each sentence/review is stored in this list\n",
    "    row=0;\n",
    "    for sent in tqdm(list_of_sentance): # for each review/sentence \n",
    "        sent_vec = np.zeros(50) # as word vectors are of zero length\n",
    "        weight_sum =0; # num of words with a valid vector in the sentence/review\n",
    "        for word in sent: # for each word in a review/sentence\n",
    "            if word in w2v_words and word in tfidf_feat:\n",
    "                vec = w2v_model.wv[word]\n",
    "    #             tf_idf = tf_idf_matrix[row, tfidf_feat.index(word)]\n",
    "                # to reduce the computation we are \n",
    "                # dictionary[word] = idf value of word in whole courpus\n",
    "                # sent.count(word) = tf valeus of word in this review\n",
    "                tf_idf = dictionary[word]*(sent.count(word)/len(sent))\n",
    "                sent_vec += (vec * tf_idf)\n",
    "                weight_sum += tf_idf\n",
    "        if weight_sum != 0:\n",
    "            sent_vec /= weight_sum\n",
    "        tfidf_sent_vectors.append(sent_vec)\n",
    "        row += 1\n",
    "    return tfidf_sent_vectors\n",
    "\n",
    "weighted_train_vec = convert_sent(train_list_of_sentance) \n",
    "print(\"Length of TF-IDF weighted vector : \",len(weighted_train_vec))\n",
    "\n",
    "weighted_cv_vec = convert_sent(cv_list_of_sentance)\n",
    "weighted_test_vec = convert_sent(test_list_of_sentance)"
   ]
  },
  {
   "cell_type": "markdown",
   "metadata": {},
   "source": [
    "# [5] Apply Logistic Regression"
   ]
  },
  {
   "cell_type": "markdown",
   "metadata": {},
   "source": [
    "## [5.1] Logistic Regression on BOW"
   ]
  },
  {
   "cell_type": "markdown",
   "metadata": {},
   "source": [
    "### [5.1.1] Applying Logistic Regression with L1 regularization on BOW"
   ]
  },
  {
   "cell_type": "code",
   "execution_count": 33,
   "metadata": {},
   "outputs": [
    {
     "name": "stdout",
     "output_type": "stream",
     "text": [
      "\n",
      "AUC score on CV data for C = 0.0001 is 0.5\n",
      "\n",
      "AUC score on CV data for C = 0.01 is 0.587641692045995\n",
      "\n",
      "AUC score on CV data for C = 1 is 0.8174260439817586\n",
      "\n",
      "AUC score on CV data for C = 100 is 0.7992581638801008\n"
     ]
    },
    {
     "name": "stderr",
     "output_type": "stream",
     "text": [
      "F:\\Anaconda\\envs\\newpy\\lib\\site-packages\\sklearn\\svm\\base.py:931: ConvergenceWarning: Liblinear failed to converge, increase the number of iterations.\n",
      "  \"the number of iterations.\", ConvergenceWarning)\n"
     ]
    },
    {
     "name": "stdout",
     "output_type": "stream",
     "text": [
      "\n",
      "AUC score on CV data for C = 10000 is 0.7719221340406592\n",
      "\n",
      "Optimal C = 1\n"
     ]
    }
   ],
   "source": [
    "score_tracker = {}\n",
    "hypp_C = [10**-4, 10**-2, 10**0, 10**2, 10**4]\n",
    "auc_list = {}\n",
    "train_auc = []\n",
    "cv_auc = []\n",
    "\n",
    "for i in hypp_C:\n",
    "    model = LogisticRegression(C=i, penalty='l1')\n",
    "    model.fit(final_counts, Y_train)\n",
    "    \n",
    "    train_predicted_labels = []\n",
    "    for j in range(0, final_counts.get_shape()[0], 1000):\n",
    "          train_predicted_labels.extend(model.predict(final_counts[j:j+1000]))\n",
    "    tr_auc = roc_auc_score(Y_train, train_predicted_labels)\n",
    "    train_auc.append(tr_auc)\n",
    "\n",
    "    predicted_labels = []\n",
    "    for j in range(0, cv_counts.get_shape()[0], 1000):\n",
    "          predicted_labels.extend(model.predict(cv_counts[j:j+1000]))\n",
    "\n",
    "    # evaluate CV accuracy\n",
    "    auc = roc_auc_score(Y_cv, predicted_labels)\n",
    "    auc_list[i] = auc\n",
    "    print('\\nAUC score on CV data for C = {0} is {1}'.format(i, auc))\n",
    "    cv_auc.append(auc)\n",
    "\n",
    "best_C = max(auc_list.keys(), key=(lambda key: auc_list[key]))\n",
    "print(\"\\nOptimal C = {}\".format(best_C))"
   ]
  },
  {
   "cell_type": "code",
   "execution_count": 34,
   "metadata": {},
   "outputs": [
    {
     "data": {
      "image/png": "[encoded data removed]",
      "text/plain": [
       "<Figure size 432x288 with 1 Axes>"
      ]
     },
     "metadata": {
      "needs_background": "light"
     },
     "output_type": "display_data"
    }
   ],
   "source": [
    "#Plotting performance of model during hyper parameter tuning\n",
    "X = [log(y,10) for y in hypp_C]\n",
    "plt.plot(X,train_auc,'r', label='Train AUC')\n",
    "plt.plot(X,cv_auc,'b', label='Validation AUC')\n",
    "# naming the x axis \n",
    "plt.xlabel('Hyper Parameter (C)') \n",
    "# naming the y axis \n",
    "plt.ylabel('Area under ROC Curve') \n",
    "# giving a title to my graph \n",
    "plt.title('Performance of model') \n",
    "# show a legend on the plot \n",
    "plt.legend() \n",
    "plt.show()"
   ]
  },
  {
   "cell_type": "code",
   "execution_count": 35,
   "metadata": {},
   "outputs": [
    {
     "name": "stdout",
     "output_type": "stream",
     "text": [
      "For Optimal C = 1, AUC Score on Test set = 0.8164622177906404\n"
     ]
    }
   ],
   "source": [
    "model = LogisticRegression(C=best_C, penalty='l1')\n",
    "model.fit(final_counts, Y_train)\n",
    "\n",
    "train_predicted_labels = []\n",
    "for j in range(0, final_counts.get_shape()[0], 1000):\n",
    "    train_predicted_labels.extend(model.predict(final_counts[j:j+1000]))\n",
    "tr_auc = roc_auc_score(Y_train, train_predicted_labels)\n",
    "\n",
    "test_predicted_labels = []\n",
    "for j in range(0, test_counts.get_shape()[0], 1000):\n",
    "    test_predicted_labels.extend(model.predict(test_counts[j:j+1000]))\n",
    "\n",
    "auc = roc_auc_score(Y_test, test_predicted_labels)\n",
    "\n",
    "print(\"For Optimal C = {}, AUC Score on Test set = {}\".format(best_C,auc))\n",
    "score_tracker[\"Bag of Words\"] = [\"Brute\",best_C,auc]\n",
    "w_l1 = model.coef_"
   ]
  },
  {
   "cell_type": "code",
   "execution_count": 36,
   "metadata": {},
   "outputs": [
    {
     "data": {
      "image/png": "[encoded data removed]",
      "text/plain": [
       "<Figure size 432x288 with 1 Axes>"
      ]
     },
     "metadata": {
      "needs_background": "light"
     },
     "output_type": "display_data"
    }
   ],
   "source": [
    "#ROC Curve on Train and Test set\n",
    "#Reference- https://qiita.com/bmj0114/items/460424c110a8ce22d945\n",
    "fpr2, tpr2, thresholds2 = roc_curve(train_predicted_labels, Y_train, pos_label=1)\n",
    "fpr1, tpr1, thresholds1 = roc_curve(test_predicted_labels, Y_test, pos_label=1)\n",
    "\n",
    "plt.figure()\n",
    "plt.plot(fpr1, tpr1, color='darkorange', lw=1, label='Test ROC curve (area = %0.2f)' % auc)\n",
    "plt.plot(fpr2, tpr2, color='green', lw=1, label='Train ROC curve (area = %0.2f)' % tr_auc)\n",
    "plt.plot([0, 1], [0, 1], color='navy', linestyle='--')\n",
    "plt.xlim([0.0, 1.0])\n",
    "plt.ylim([0.0, 1.05])\n",
    "plt.xlabel('False Positive Rate')\n",
    "plt.ylabel('True Positive Rate')\n",
    "plt.title('Receiver operating characteristic')\n",
    "plt.legend(loc=\"lower right\")\n",
    "plt.show()"
   ]
  },
  {
   "cell_type": "code",
   "execution_count": 37,
   "metadata": {},
   "outputs": [
    {
     "data": {
      "image/png": "[encoded data removed]",
      "text/plain": [
       "<Figure size 1440x504 with 2 Axes>"
      ]
     },
     "metadata": {
      "needs_background": "light"
     },
     "output_type": "display_data"
    },
    {
     "name": "stdout",
     "output_type": "stream",
     "text": [
      "\n",
      "Confusion Matrix shows the number of points of Class i (Original Class - Y axis) that was predicted to be in Class j (Predicted Class - X axis)\n"
     ]
    }
   ],
   "source": [
    "#Confusion Matrix\n",
    "Cm = confusion_matrix(Y_test,test_predicted_labels)\n",
    "    \n",
    "labels = ['Negative','Positive']\n",
    "\n",
    "plt.figure(figsize=(20,7))\n",
    "sns.heatmap(Cm, annot=True, cmap=\"YlGnBu\", fmt=\".3f\", xticklabels=labels, yticklabels=labels)\n",
    "plt.xlabel('Original Class')\n",
    "plt.ylabel('Predicted Class')\n",
    "plt.show()\n",
    "    \n",
    "print(\"\\nConfusion Matrix shows the number of points of Class i (Original Class - Y axis) that was \\\n",
    "predicted to be in Class j (Predicted Class - X axis)\")"
   ]
  },
  {
   "cell_type": "markdown",
   "metadata": {},
   "source": [
    "#### [5.1.1.1] Calculating sparsity on weight vector obtained using L1 regularization on BOW"
   ]
  },
  {
   "cell_type": "code",
   "execution_count": 38,
   "metadata": {},
   "outputs": [
    {
     "name": "stdout",
     "output_type": "stream",
     "text": [
      "Percentage Sparsity = 90.47459462246398 %\n"
     ]
    }
   ],
   "source": [
    "#https://stackoverflow.com/questions/38708621/how-to-calculate-percentage-of-sparsity-for-a-numpy-array-matrix\n",
    "non_zero = np.count_nonzero(w_l1) #non-zero values in weight vector\n",
    "total_values = np.product(w_l1.shape)\n",
    "\n",
    "sparsity = (total_values - non_zero) / total_values\n",
    "print(\"Percentage Sparsity = {} %\".format(sparsity*100))"
   ]
  },
  {
   "cell_type": "markdown",
   "metadata": {},
   "source": [
    "### [5.1.2] Applying Logistic Regression with L2 regularization on BOW"
   ]
  },
  {
   "cell_type": "code",
   "execution_count": 39,
   "metadata": {},
   "outputs": [
    {
     "name": "stdout",
     "output_type": "stream",
     "text": [
      "\n",
      "Using L2 - AUC score on CV data for C = 0.0001 is 0.5\n",
      "\n",
      "Using L2 - AUC score on CV data for C = 0.01 is 0.7053732982886036\n",
      "\n",
      "Using L2 - AUC score on CV data for C = 1 is 0.8174383199214168\n"
     ]
    },
    {
     "name": "stderr",
     "output_type": "stream",
     "text": [
      "F:\\Anaconda\\envs\\newpy\\lib\\site-packages\\sklearn\\svm\\base.py:931: ConvergenceWarning: Liblinear failed to converge, increase the number of iterations.\n",
      "  \"the number of iterations.\", ConvergenceWarning)\n"
     ]
    },
    {
     "name": "stdout",
     "output_type": "stream",
     "text": [
      "\n",
      "Using L2 - AUC score on CV data for C = 100 is 0.8039107124194921\n"
     ]
    },
    {
     "name": "stderr",
     "output_type": "stream",
     "text": [
      "F:\\Anaconda\\envs\\newpy\\lib\\site-packages\\sklearn\\svm\\base.py:931: ConvergenceWarning: Liblinear failed to converge, increase the number of iterations.\n",
      "  \"the number of iterations.\", ConvergenceWarning)\n"
     ]
    },
    {
     "name": "stdout",
     "output_type": "stream",
     "text": [
      "\n",
      "Using L2 - AUC score on CV data for C = 10000 is 0.7966783154108235\n",
      "\n",
      "Optimal C = 1\n",
      "\n",
      "Using L2 - For Optimal C = 1, AUC Score on Test set = 0.8164622177906404\n"
     ]
    }
   ],
   "source": [
    "hypp_C = [10**-4, 10**-2, 10**0, 10**2, 10**4]\n",
    "auc_list = {}\n",
    "cv_auc = []\n",
    "\n",
    "for i in hypp_C:\n",
    "    model_1 = LogisticRegression(C=i, penalty='l2')\n",
    "    model_1.fit(final_counts, Y_train)\n",
    "\n",
    "    predicted_labels = []\n",
    "    for j in range(0, cv_counts.get_shape()[0], 1000):\n",
    "          predicted_labels.extend(model_1.predict(cv_counts[j:j+1000]))\n",
    "\n",
    "    # evaluate CV accuracy\n",
    "    auc = roc_auc_score(Y_cv, predicted_labels)\n",
    "    auc_list[i] = auc\n",
    "    print('\\nUsing L2 - AUC score on CV data for C = {0} is {1}'.format(i, auc))\n",
    "    cv_auc.append(auc)\n",
    "\n",
    "best_C = max(auc_list.keys(), key=(lambda key: auc_list[key]))\n",
    "print(\"\\nOptimal C = {}\".format(best_C))\n",
    "\n",
    "model_1 = LogisticRegression(C=best_C, penalty='l2')\n",
    "model_1.fit(final_counts, Y_train)\n",
    "\n",
    "test_predicted_labels = []\n",
    "for j in range(0, test_counts.get_shape()[0], 1000):\n",
    "    test_predicted_labels.extend(model.predict(test_counts[j:j+1000]))\n",
    "\n",
    "auc = roc_auc_score(Y_test, test_predicted_labels)\n",
    "\n",
    "print(\"\\nUsing L2 - For Optimal C = {}, AUC Score on Test set = {}\".format(best_C,auc))"
   ]
  },
  {
   "cell_type": "markdown",
   "metadata": {},
   "source": [
    "#### [5.1.2.1] Performing pertubation test (multicollinearity check) on BOW"
   ]
  },
  {
   "cell_type": "code",
   "execution_count": 40,
   "metadata": {},
   "outputs": [
    {
     "name": "stdout",
     "output_type": "stream",
     "text": [
      "Added Error =  -0.1409598154341651\n"
     ]
    }
   ],
   "source": [
    "test_df = count_vect.transform(X_train)\n",
    "\n",
    "w0 = model.coef_\n",
    "\n",
    "error = np.random.normal(0,0.1)\n",
    "print(\"Added Error = \",error)\n",
    "\n",
    "test_df.data = test_df.data + error"
   ]
  },
  {
   "cell_type": "code",
   "execution_count": 41,
   "metadata": {},
   "outputs": [],
   "source": [
    "model_ptest = LogisticRegression(C=best_C, penalty='l1')\n",
    "model_ptest.fit(test_df, Y_train)\n",
    "\n",
    "w1 = model_ptest.coef_\n",
    "\n",
    "#Add a small eps value(to eliminate the divisible by zero error) to W and W’ i.e W=W+10^-6 and W’ = W’+10^-6\n",
    "w0 += 10^-6\n",
    "w1 += 10^-6\n",
    "\n",
    "#find the % change between W and W' (| (W-W') / (W) |)*100)\n",
    "change = abs((w1-w0) / w0) *100"
   ]
  },
  {
   "cell_type": "code",
   "execution_count": 42,
   "metadata": {},
   "outputs": [
    {
     "name": "stdout",
     "output_type": "stream",
     "text": [
      "[0.0, 0.0, 0.0, 0.0, 0.0, 0.0, 0.0, 0.0, 0.0, 0.0, 15.66208192130977]\n"
     ]
    }
   ],
   "source": [
    "#Checking 0th, 10th, 20th, 30th, ..., 100th percentiles\n",
    "per_value = 0\n",
    "percentile_output = []\n",
    "while per_value<=100:\n",
    "    percentile_output.append(np.percentile(change, per_value))\n",
    "    per_value +=10\n",
    "\n",
    "print(percentile_output)"
   ]
  },
  {
   "cell_type": "code",
   "execution_count": 43,
   "metadata": {},
   "outputs": [
    {
     "name": "stdout",
     "output_type": "stream",
     "text": [
      "[1.157917393171936, 1.2428033239680065, 1.3520961830219795, 1.430404162508915, 1.5486712745301912, 1.687025779148015, 1.8541723785223907, 2.1288392944248464, 2.6863471389625038, 15.662081921137814]\n"
     ]
    }
   ],
   "source": [
    "#Checking 99.1, 99.2, 99.3,..., 100th percentile values\n",
    "per_value = 99.1\n",
    "percentile_output = []\n",
    "while per_value<=100:\n",
    "    percentile_output.append(np.percentile(change, per_value))\n",
    "    per_value += 0.1\n",
    "\n",
    "print(percentile_output)"
   ]
  },
  {
   "cell_type": "code",
   "execution_count": 44,
   "metadata": {},
   "outputs": [
    {
     "name": "stdout",
     "output_type": "stream",
     "text": [
      "[  334  1704  2264  3703  7047  9610 10205 10980 12597 12758 16048 16953\n",
      " 17697 18543 18590 20540 21514 24190 24368 25437 25949 30113 35124 36790]\n"
     ]
    }
   ],
   "source": [
    "#Obtain index of weights having % change > threshold value\n",
    "index_max_change = np.where(change>mean(percentile_output)) #Considering mean value to be the threshold\n",
    "print(index_max_change[1])"
   ]
  },
  {
   "cell_type": "code",
   "execution_count": 45,
   "metadata": {},
   "outputs": [
    {
     "name": "stdout",
     "output_type": "stream",
     "text": [
      "['adage', 'arabic', 'avocados', 'bonsais', 'conditioners', 'disabled', 'doughy', 'emeraldforest', 'filming', 'flagging', 'historically', 'incompetent', 'irresponsible', 'kickstarter', 'kindly', 'markings', 'mitts', 'ozs', 'pancreas', 'pinto', 'porous', 'selecting', 'torture', 'ventured']\n"
     ]
    }
   ],
   "source": [
    "#feature names whose % change is more than a threshold value 2\n",
    "feat = list(np.take(count_vect.get_feature_names(), index_max_change[1]))\n",
    "print(feat)"
   ]
  },
  {
   "cell_type": "markdown",
   "metadata": {},
   "source": [
    "### [5.1.3] Feature Importance on BOW"
   ]
  },
  {
   "cell_type": "markdown",
   "metadata": {},
   "source": [
    "#### [5.1.3.1] Top 10 important features of positive class"
   ]
  },
  {
   "cell_type": "code",
   "execution_count": 46,
   "metadata": {},
   "outputs": [
    {
     "name": "stdout",
     "output_type": "stream",
     "text": [
      "Top 10 Features of Positive class and Weights:\n",
      "\n",
      "resist: -13.658296034248458\n",
      "prescription: -13.614560954136438\n",
      "beat: -13.612112426979014\n",
      "corner: -13.524138462495864\n",
      "sales: -13.248936471943567\n",
      "addictive: -13.209202603592512\n",
      "pedigree: -13.192619031697422\n",
      "pleasantly: -12.271088090891077\n",
      "worried: -12.21814172465043\n",
      "emeraldforest: -9.740295837140591\n"
     ]
    }
   ],
   "source": [
    "#for Positive Class\n",
    "index = w_l1.argsort(kind='quicksort')\n",
    "\n",
    "top10 = {}\n",
    "feat = list(np.take(count_vect.get_feature_names(), index[0][-10:]))\n",
    "indx = []\n",
    "for i in index[0][-10:]:\n",
    "    indx.append(w_l1[0][i])\n",
    "    \n",
    "for it in range(0,10):\n",
    "    top10[feat[it]] = indx[it]\n",
    "\n",
    "print(\"Top 10 Features of Positive class and Weights:\\n\")\n",
    "\n",
    "print('\\n'.join(\"{}: {}\".format(k, v) for k, v in top10.items()))"
   ]
  },
  {
   "cell_type": "markdown",
   "metadata": {},
   "source": [
    "#### [5.1.3.2] Top 10 important features of negative class"
   ]
  },
  {
   "cell_type": "code",
   "execution_count": 47,
   "metadata": {},
   "outputs": [
    {
     "name": "stdout",
     "output_type": "stream",
     "text": [
      "Top 10 Features of Negative class and Weights:\n",
      "\n",
      "stassen: -21.626308491980804\n",
      "unimpressed: -20.179033384964804\n",
      "detangling: -20.030155835585518\n",
      "unpleasantly: -19.761930387229945\n",
      "ripoff: -19.448237006142612\n",
      "undrinkable: -19.35209451816096\n",
      "prizes: -19.261285328216367\n",
      "unappealing: -19.20123253292976\n",
      "worst: -19.140340706017604\n",
      "metallic: -19.072701982330695\n"
     ]
    }
   ],
   "source": [
    "#for Negative Class\n",
    "top10 = {}\n",
    "feat = list(np.take(count_vect.get_feature_names(), index[0][:10]))\n",
    "indx = []\n",
    "for i in index[0][:10]:\n",
    "    indx.append((w_l1[0][i]))\n",
    "    \n",
    "for it in range(0,10):\n",
    "    top10[feat[it]] = indx[it]\n",
    "\n",
    "print(\"Top 10 Features of Negative class and Weights:\\n\")\n",
    "\n",
    "print('\\n'.join(\"{}: {}\".format(k, v) for k, v in top10.items()))"
   ]
  },
  {
   "cell_type": "markdown",
   "metadata": {},
   "source": [
    "## [5.2] Logistic Regression on TFIDF"
   ]
  },
  {
   "cell_type": "markdown",
   "metadata": {},
   "source": [
    "### [5.2.1] Applying Logistic Regression with L1 regularization on TFIDF"
   ]
  },
  {
   "cell_type": "code",
   "execution_count": 48,
   "metadata": {},
   "outputs": [
    {
     "name": "stdout",
     "output_type": "stream",
     "text": [
      "\n",
      "AUC score on CV data for C = 0.0001 is 0.5\n",
      "\n",
      "AUC score on CV data for C = 0.01 is 0.5\n",
      "\n",
      "AUC score on CV data for C = 1 is 0.8089412512637156\n",
      "\n",
      "AUC score on CV data for C = 100 is 0.8447326658843379\n",
      "\n",
      "AUC score on CV data for C = 10000 is 0.8290177792542704\n",
      "\n",
      "Optimal C = 100\n"
     ]
    }
   ],
   "source": [
    "hypp_C = [10**-4, 10**-2, 10**0, 10**2, 10**4]\n",
    "auc_list = {}\n",
    "train_auc = []\n",
    "cv_auc = []\n",
    "\n",
    "for i in hypp_C:\n",
    "    model = LogisticRegression(C=i, penalty='l1')\n",
    "    model.fit(final_tf_idf, Y_train)\n",
    "    \n",
    "    train_predicted_labels = []\n",
    "    for j in range(0, final_tf_idf.get_shape()[0], 1000):\n",
    "          train_predicted_labels.extend(model.predict(final_tf_idf[j:j+1000]))\n",
    "    tr_auc = roc_auc_score(Y_train, train_predicted_labels)\n",
    "    train_auc.append(tr_auc)\n",
    "\n",
    "    predicted_labels = []\n",
    "    for j in range(0, cv_tfidf.get_shape()[0], 1000):\n",
    "          predicted_labels.extend(model.predict(cv_tfidf[j:j+1000]))\n",
    "\n",
    "    # evaluate CV accuracy\n",
    "    auc = roc_auc_score(Y_cv, predicted_labels)\n",
    "    auc_list[i] = auc\n",
    "    print('\\nAUC score on CV data for C = {0} is {1}'.format(i, auc))\n",
    "    cv_auc.append(auc)\n",
    "\n",
    "best_C = max(auc_list.keys(), key=(lambda key: auc_list[key]))\n",
    "print(\"\\nOptimal C = {}\".format(best_C))"
   ]
  },
  {
   "cell_type": "code",
   "execution_count": 49,
   "metadata": {},
   "outputs": [
    {
     "data": {
      "image/png": "[encoded data removed]",
      "text/plain": [
       "<Figure size 432x288 with 1 Axes>"
      ]
     },
     "metadata": {
      "needs_background": "light"
     },
     "output_type": "display_data"
    }
   ],
   "source": [
    "#Plotting performance of model during hyper parameter tuning\n",
    "X = [log(y,10) for y in hypp_C]\n",
    "plt.plot(X,train_auc,'r', label='Train AUC')\n",
    "plt.plot(X,cv_auc,'b', label='Validation AUC')\n",
    "# naming the x axis \n",
    "plt.xlabel('Hyper Parameter (C)') \n",
    "# naming the y axis \n",
    "plt.ylabel('Area under ROC Curve') \n",
    "# giving a title to my graph \n",
    "plt.title('Performance of model') \n",
    "# show a legend on the plot \n",
    "plt.legend() \n",
    "plt.show()"
   ]
  },
  {
   "cell_type": "code",
   "execution_count": 50,
   "metadata": {},
   "outputs": [
    {
     "name": "stdout",
     "output_type": "stream",
     "text": [
      "For Optimal C = 100, AUC Score on Test set = 0.8417515252266476\n"
     ]
    }
   ],
   "source": [
    "model = LogisticRegression(C=best_C, penalty='l1')\n",
    "model.fit(final_tf_idf, Y_train)\n",
    "\n",
    "train_predicted_labels = []\n",
    "for j in range(0, final_tf_idf.get_shape()[0], 1000):\n",
    "    train_predicted_labels.extend(model.predict(final_tf_idf[j:j+1000]))\n",
    "tr_auc = roc_auc_score(Y_train, train_predicted_labels)\n",
    "\n",
    "test_predicted_labels = []\n",
    "for j in range(0, test_tfidf.get_shape()[0], 1000):\n",
    "    test_predicted_labels.extend(model.predict(test_tfidf[j:j+1000]))\n",
    "\n",
    "auc = roc_auc_score(Y_test, test_predicted_labels)\n",
    "\n",
    "print(\"For Optimal C = {}, AUC Score on Test set = {}\".format(best_C,auc))\n",
    "score_tracker[\"TF-IDF\"] = [\"Brute\",best_C,auc]\n",
    "w_l1 = model.coef_"
   ]
  },
  {
   "cell_type": "code",
   "execution_count": 51,
   "metadata": {},
   "outputs": [
    {
     "data": {
      "image/png": "[encoded data removed]",
      "text/plain": [
       "<Figure size 432x288 with 1 Axes>"
      ]
     },
     "metadata": {
      "needs_background": "light"
     },
     "output_type": "display_data"
    }
   ],
   "source": [
    "#ROC Curve on Train and Test set\n",
    "#Reference- https://qiita.com/bmj0114/items/460424c110a8ce22d945\n",
    "fpr2, tpr2, thresholds2 = roc_curve(train_predicted_labels, Y_train, pos_label=1)\n",
    "fpr1, tpr1, thresholds1 = roc_curve(test_predicted_labels, Y_test, pos_label=1)\n",
    "\n",
    "plt.figure()\n",
    "plt.plot(fpr1, tpr1, color='darkorange', lw=1, label='Test ROC curve (area = %0.2f)' % auc)\n",
    "plt.plot(fpr2, tpr2, color='green', lw=1, label='Train ROC curve (area = %0.2f)' % tr_auc)\n",
    "plt.plot([0, 1], [0, 1], color='navy', linestyle='--')\n",
    "plt.xlim([0.0, 1.0])\n",
    "plt.ylim([0.0, 1.05])\n",
    "plt.xlabel('False Positive Rate')\n",
    "plt.ylabel('True Positive Rate')\n",
    "plt.title('Receiver operating characteristic')\n",
    "plt.legend(loc=\"lower right\")\n",
    "plt.show()"
   ]
  },
  {
   "cell_type": "code",
   "execution_count": 52,
   "metadata": {},
   "outputs": [
    {
     "data": {
      "image/png": "[encoded data removed]",
      "text/plain": [
       "<Figure size 1440x504 with 2 Axes>"
      ]
     },
     "metadata": {
      "needs_background": "light"
     },
     "output_type": "display_data"
    },
    {
     "name": "stdout",
     "output_type": "stream",
     "text": [
      "\n",
      "Confusion Matrix shows the number of points of Class i (Original Class - Y axis) that was predicted to be in Class j (Predicted Class - X axis)\n"
     ]
    }
   ],
   "source": [
    "#Confusion Matrix\n",
    "Cm = confusion_matrix(Y_test,test_predicted_labels)\n",
    "    \n",
    "labels = ['Negative','Positive']\n",
    "\n",
    "plt.figure(figsize=(20,7))\n",
    "sns.heatmap(Cm, annot=True, cmap=\"YlGnBu\", fmt=\".3f\", xticklabels=labels, yticklabels=labels)\n",
    "plt.xlabel('Original Class')\n",
    "plt.ylabel('Predicted Class')\n",
    "plt.show()\n",
    "    \n",
    "print(\"\\nConfusion Matrix shows the number of points of Class i (Original Class - Y axis) that was \\\n",
    "predicted to be in Class j (Predicted Class - X axis)\")"
   ]
  },
  {
   "cell_type": "markdown",
   "metadata": {},
   "source": [
    "### [5.2.2] Applying Logistic Regression with L2 regularization on TFIDF"
   ]
  },
  {
   "cell_type": "code",
   "execution_count": 53,
   "metadata": {},
   "outputs": [
    {
     "name": "stdout",
     "output_type": "stream",
     "text": [
      "\n",
      "Using L2 - AUC score on CV data for C = 0.0001 is 0.5\n",
      "\n",
      "Using L2 - AUC score on CV data for C = 0.01 is 0.5\n",
      "\n",
      "Using L2 - AUC score on CV data for C = 1 is 0.778108773081754\n",
      "\n",
      "Using L2 - AUC score on CV data for C = 100 is 0.843291785614728\n",
      "\n",
      "Using L2 - AUC score on CV data for C = 10000 is 0.8418170215789292\n",
      "\n",
      "Optimal C = 100\n",
      "\n",
      "Using L2 - For Optimal C = 100, AUC Score on Test set = 0.8403685475861047\n"
     ]
    }
   ],
   "source": [
    "hypp_C = [10**-4, 10**-2, 10**0, 10**2, 10**4]\n",
    "auc_list = {}\n",
    "cv_auc = []\n",
    "\n",
    "for i in hypp_C:\n",
    "    model_1 = LogisticRegression(C=i, penalty='l2')\n",
    "    model_1.fit(final_tf_idf, Y_train)\n",
    "\n",
    "    predicted_labels = []\n",
    "    for j in range(0, cv_tfidf.get_shape()[0], 1000):\n",
    "          predicted_labels.extend(model_1.predict(cv_tfidf[j:j+1000]))\n",
    "\n",
    "    # evaluate CV accuracy\n",
    "    auc = roc_auc_score(Y_cv, predicted_labels)\n",
    "    auc_list[i] = auc\n",
    "    print('\\nUsing L2 - AUC score on CV data for C = {0} is {1}'.format(i, auc))\n",
    "    cv_auc.append(auc)\n",
    "\n",
    "best_C = max(auc_list.keys(), key=(lambda key: auc_list[key]))\n",
    "print(\"\\nOptimal C = {}\".format(best_C))\n",
    "\n",
    "model_1 = LogisticRegression(C=best_C, penalty='l2')\n",
    "model_1.fit(final_tf_idf, Y_train)\n",
    "\n",
    "test_predicted_labels = []\n",
    "for j in range(0, test_tfidf.get_shape()[0], 1000):\n",
    "    test_predicted_labels.extend(model_1.predict(test_tfidf[j:j+1000]))\n",
    "\n",
    "auc = roc_auc_score(Y_test, test_predicted_labels)\n",
    "\n",
    "print(\"\\nUsing L2 - For Optimal C = {}, AUC Score on Test set = {}\".format(best_C,auc))"
   ]
  },
  {
   "cell_type": "markdown",
   "metadata": {},
   "source": [
    "### [5.2.3] Feature Importance on TFIDF,<font color='red'> SET 2</font>"
   ]
  },
  {
   "cell_type": "markdown",
   "metadata": {},
   "source": [
    "#### [5.2.3.1] Top 10 important features of positive class from<font color='red'> SET 2</font>"
   ]
  },
  {
   "cell_type": "code",
   "execution_count": 54,
   "metadata": {},
   "outputs": [
    {
     "name": "stdout",
     "output_type": "stream",
     "text": [
      "Top 10 Features of Positive class and Weights:\n",
      "\n",
      "excellent: 43.54335048748732\n",
      "buying amazon: 43.57201275437338\n",
      "freshener: 44.358286920738614\n",
      "mixed fruit: 45.461620523123436\n",
      "good size: 49.391387787621376\n",
      "not processed: 50.19179364544838\n",
      "great: 50.539587484258334\n",
      "delicious: 50.57771695785762\n",
      "smaller bag: 52.4164156364786\n",
      "not disappointed: 90.28690845833977\n"
     ]
    }
   ],
   "source": [
    "#for Positive Class\n",
    "index = w_l1.argsort(kind='quicksort')\n",
    "\n",
    "top10 = {}\n",
    "feat = list(np.take(tf_idf_vect.get_feature_names(), index[0][-10:]))\n",
    "indx = []\n",
    "for i in index[0][-10:]:\n",
    "    indx.append(w_l1[0][i])\n",
    "    \n",
    "for it in range(0,10):\n",
    "    top10[feat[it]] = indx[it]\n",
    "\n",
    "print(\"Top 10 Features of Positive class and Weights:\\n\")\n",
    "\n",
    "print('\\n'.join(\"{}: {}\".format(k, v) for k, v in top10.items()))"
   ]
  },
  {
   "cell_type": "markdown",
   "metadata": {},
   "source": [
    "#### [5.2.3.2] Top 10 important features of negative class from<font color='red'> SET 2</font>"
   ]
  },
  {
   "cell_type": "code",
   "execution_count": 55,
   "metadata": {},
   "outputs": [
    {
     "name": "stdout",
     "output_type": "stream",
     "text": [
      "Top 10 Features of Negative class and Weights:\n",
      "\n",
      "two stars: -74.28186701809162\n",
      "worst: -55.401868821274505\n",
      "severely: -55.28594252865846\n",
      "canceled: -54.958645185014504\n",
      "ripoff: -53.14753565176214\n",
      "not worth: -51.08972113340166\n",
      "still no: -47.56357862796911\n",
      "disappointed like: -45.96214648465264\n",
      "inedible: -45.118648877707535\n",
      "ruins: -44.07787951285665\n"
     ]
    }
   ],
   "source": [
    "#for Negative Class\n",
    "top10 = {}\n",
    "feat = list(np.take(tf_idf_vect.get_feature_names(), index[0][:10]))\n",
    "indx = []\n",
    "for i in index[0][:10]:\n",
    "    indx.append(w_l1[0][i])\n",
    "    \n",
    "for it in range(0,10):\n",
    "    top10[feat[it]] = indx[it]\n",
    "\n",
    "print(\"Top 10 Features of Negative class and Weights:\\n\")\n",
    "\n",
    "print('\\n'.join(\"{}: {}\".format(k, v) for k, v in top10.items()))"
   ]
  },
  {
   "cell_type": "markdown",
   "metadata": {},
   "source": [
    "## [5.3] Logistic Regression on AVG W2V"
   ]
  },
  {
   "cell_type": "markdown",
   "metadata": {},
   "source": [
    "### [5.3.1] Applying Logistic Regression with L1 regularization on AVG W2V"
   ]
  },
  {
   "cell_type": "code",
   "execution_count": 57,
   "metadata": {},
   "outputs": [],
   "source": [
    "train_vec = normalize(np.nan_to_num(train_sent_vec))\n",
    "cv_vec = normalize(np.nan_to_num(cv_sent_vec))\n",
    "test_vec = normalize(np.nan_to_num(test_sent_vec))"
   ]
  },
  {
   "cell_type": "code",
   "execution_count": 58,
   "metadata": {},
   "outputs": [
    {
     "name": "stdout",
     "output_type": "stream",
     "text": [
      "\n",
      "AUC score on CV data for C = 0.0001 is 0.5\n",
      "\n",
      "AUC score on CV data for C = 0.01 is 0.6094717456755558\n",
      "\n",
      "AUC score on CV data for C = 1 is 0.7352207681088034\n",
      "\n",
      "AUC score on CV data for C = 100 is 0.7369120232291198\n",
      "\n",
      "AUC score on CV data for C = 10000 is 0.7369120232291198\n",
      "\n",
      "Optimal C = 100\n"
     ]
    }
   ],
   "source": [
    "hypp_C = [10**-4, 10**-2, 10**0, 10**2, 10**4]\n",
    "auc_list = {}\n",
    "train_auc = []\n",
    "cv_auc = []\n",
    "\n",
    "for i in hypp_C:\n",
    "    model = LogisticRegression(C=i, penalty='l1')\n",
    "    model.fit(train_vec, Y_train)\n",
    "    \n",
    "    train_predicted_labels = []\n",
    "    for j in range(0, len(train_vec), 1000):\n",
    "          train_predicted_labels.extend(model.predict(train_vec[j:j+1000]))\n",
    "    tr_auc = roc_auc_score(Y_train, train_predicted_labels)\n",
    "    train_auc.append(tr_auc)\n",
    "\n",
    "    predicted_labels = []\n",
    "    for j in range(0, len(cv_vec), 1000):\n",
    "          predicted_labels.extend(model.predict(cv_vec[j:j+1000]))\n",
    "\n",
    "    # evaluate CV accuracy\n",
    "    auc = roc_auc_score(Y_cv, predicted_labels)\n",
    "    auc_list[i] = auc\n",
    "    print('\\nAUC score on CV data for C = {0} is {1}'.format(i, auc))\n",
    "    cv_auc.append(auc)\n",
    "\n",
    "best_C = max(auc_list.keys(), key=(lambda key: auc_list[key]))\n",
    "print(\"\\nOptimal C = {}\".format(best_C))"
   ]
  },
  {
   "cell_type": "code",
   "execution_count": 59,
   "metadata": {},
   "outputs": [
    {
     "data": {
      "image/png": "[encoded data removed]",
      "text/plain": [
       "<Figure size 432x288 with 1 Axes>"
      ]
     },
     "metadata": {
      "needs_background": "light"
     },
     "output_type": "display_data"
    }
   ],
   "source": [
    "#Plotting performance of model during hyper parameter tuning\n",
    "X = [log(y,10) for y in hypp_C]\n",
    "plt.plot(X,train_auc,'r', label='Train AUC')\n",
    "plt.plot(X,cv_auc,'b', label='Validation AUC')\n",
    "# naming the x axis \n",
    "plt.xlabel('Hyper Parameter (C)') \n",
    "# naming the y axis \n",
    "plt.ylabel('Area under ROC Curve') \n",
    "# giving a title to my graph \n",
    "plt.title('Performance of model') \n",
    "# show a legend on the plot \n",
    "plt.legend() \n",
    "plt.show()"
   ]
  },
  {
   "cell_type": "code",
   "execution_count": 60,
   "metadata": {},
   "outputs": [
    {
     "name": "stdout",
     "output_type": "stream",
     "text": [
      "For Optimal C = 100, AUC Score on Test set = 0.7411095967696357\n"
     ]
    }
   ],
   "source": [
    "model = LogisticRegression(C=best_C, penalty='l1')\n",
    "model.fit(train_vec, Y_train)\n",
    "\n",
    "train_predicted_labels = []\n",
    "for j in range(0, len(train_vec), 1000):\n",
    "    train_predicted_labels.extend(model.predict(train_vec[j:j+1000]))\n",
    "tr_auc = roc_auc_score(Y_train, train_predicted_labels)\n",
    "\n",
    "test_predicted_labels = []\n",
    "for j in range(0, len(test_vec), 1000):\n",
    "    test_predicted_labels.extend(model.predict(test_vec[j:j+1000]))\n",
    "\n",
    "auc = roc_auc_score(Y_test, test_predicted_labels)\n",
    "\n",
    "print(\"For Optimal C = {}, AUC Score on Test set = {}\".format(best_C,auc))\n",
    "score_tracker[\"Avg Word2Vec\"] = [\"Brute\",best_C,auc]"
   ]
  },
  {
   "cell_type": "code",
   "execution_count": 61,
   "metadata": {},
   "outputs": [
    {
     "data": {
      "image/png": "[encoded data removed]",
      "text/plain": [
       "<Figure size 432x288 with 1 Axes>"
      ]
     },
     "metadata": {
      "needs_background": "light"
     },
     "output_type": "display_data"
    }
   ],
   "source": [
    "#ROC Curve on Train and Test set\n",
    "#Reference- https://qiita.com/bmj0114/items/460424c110a8ce22d945\n",
    "fpr2, tpr2, thresholds2 = roc_curve(train_predicted_labels, Y_train, pos_label=1)\n",
    "fpr1, tpr1, thresholds1 = roc_curve(test_predicted_labels, Y_test, pos_label=1)\n",
    "\n",
    "plt.figure()\n",
    "plt.plot(fpr1, tpr1, color='darkorange', lw=1, label='Test ROC curve (area = %0.2f)' % auc)\n",
    "plt.plot(fpr2, tpr2, color='green', lw=1, label='Train ROC curve (area = %0.2f)' % tr_auc)\n",
    "plt.plot([0, 1], [0, 1], color='navy', linestyle='--')\n",
    "plt.xlim([0.0, 1.0])\n",
    "plt.ylim([0.0, 1.05])\n",
    "plt.xlabel('False Positive Rate')\n",
    "plt.ylabel('True Positive Rate')\n",
    "plt.title('Receiver operating characteristic')\n",
    "plt.legend(loc=\"lower right\")\n",
    "plt.show()"
   ]
  },
  {
   "cell_type": "code",
   "execution_count": 62,
   "metadata": {},
   "outputs": [
    {
     "data": {
      "image/png": "[encoded data removed]",
      "text/plain": [
       "<Figure size 1440x504 with 2 Axes>"
      ]
     },
     "metadata": {
      "needs_background": "light"
     },
     "output_type": "display_data"
    },
    {
     "name": "stdout",
     "output_type": "stream",
     "text": [
      "\n",
      "Confusion Matrix shows the number of points of Class i (Original Class - Y axis) that was predicted to be in Class j (Predicted Class - X axis)\n"
     ]
    }
   ],
   "source": [
    "#Confusion Matrix\n",
    "Cm = confusion_matrix(Y_test,test_predicted_labels)\n",
    "    \n",
    "labels = ['Negative','Positive']\n",
    "\n",
    "plt.figure(figsize=(20,7))\n",
    "sns.heatmap(Cm, annot=True, cmap=\"YlGnBu\", fmt=\".3f\", xticklabels=labels, yticklabels=labels)\n",
    "plt.xlabel('Original Class')\n",
    "plt.ylabel('Predicted Class')\n",
    "plt.show()\n",
    "    \n",
    "print(\"\\nConfusion Matrix shows the number of points of Class i (Original Class - Y axis) that was \\\n",
    "predicted to be in Class j (Predicted Class - X axis)\")"
   ]
  },
  {
   "cell_type": "markdown",
   "metadata": {},
   "source": [
    "### [5.3.2] Applying Logistic Regression with L2 regularization on AVG W2V"
   ]
  },
  {
   "cell_type": "code",
   "execution_count": 63,
   "metadata": {},
   "outputs": [
    {
     "name": "stdout",
     "output_type": "stream",
     "text": [
      "\n",
      "Using L2 - AUC score on CV data for C = 0.0001 is 0.5\n",
      "\n",
      "Using L2 - AUC score on CV data for C = 0.01 is 0.5885603342879596\n",
      "\n",
      "Using L2 - AUC score on CV data for C = 1 is 0.7332199311721741\n",
      "\n",
      "Using L2 - AUC score on CV data for C = 100 is 0.7367441253110538\n",
      "\n",
      "Using L2 - AUC score on CV data for C = 10000 is 0.7367441253110538\n",
      "\n",
      "Optimal C = 100\n",
      "\n",
      "Using L2 - For Optimal C = 100, AUC Score on Test set = 0.741227133205931\n"
     ]
    }
   ],
   "source": [
    "hypp_C = [10**-4, 10**-2, 10**0, 10**2, 10**4]\n",
    "auc_list = {}\n",
    "cv_auc = []\n",
    "\n",
    "for i in hypp_C:\n",
    "    model_1 = LogisticRegression(C=i, penalty='l2')\n",
    "    model_1.fit(train_vec, Y_train)\n",
    "\n",
    "    predicted_labels = []\n",
    "    for j in range(0, len(cv_vec), 1000):\n",
    "          predicted_labels.extend(model_1.predict(cv_vec[j:j+1000]))\n",
    "\n",
    "    # evaluate CV accuracy\n",
    "    auc = roc_auc_score(Y_cv, predicted_labels)\n",
    "    auc_list[i] = auc\n",
    "    print('\\nUsing L2 - AUC score on CV data for C = {0} is {1}'.format(i, auc))\n",
    "    cv_auc.append(auc)\n",
    "\n",
    "best_C = max(auc_list.keys(), key=(lambda key: auc_list[key]))\n",
    "print(\"\\nOptimal C = {}\".format(best_C))\n",
    "\n",
    "model_1 = LogisticRegression(C=best_C, penalty='l2')\n",
    "model_1.fit(train_vec, Y_train)\n",
    "\n",
    "test_predicted_labels = []\n",
    "for j in range(0, len(test_vec), 1000):\n",
    "    test_predicted_labels.extend(model_1.predict(test_vec[j:j+1000]))\n",
    "\n",
    "auc = roc_auc_score(Y_test, test_predicted_labels)\n",
    "\n",
    "print(\"\\nUsing L2 - For Optimal C = {}, AUC Score on Test set = {}\".format(best_C,auc))"
   ]
  },
  {
   "cell_type": "markdown",
   "metadata": {},
   "source": [
    "## [5.4] Logistic Regression on TFIDF W2V"
   ]
  },
  {
   "cell_type": "markdown",
   "metadata": {},
   "source": [
    "### [5.4.1] Applying Logistic Regression with L1 regularization on TFIDF W2V"
   ]
  },
  {
   "cell_type": "code",
   "execution_count": 65,
   "metadata": {},
   "outputs": [
    {
     "name": "stdout",
     "output_type": "stream",
     "text": [
      "\n",
      "AUC score on CV data for C = 0.0001 is 0.5\n",
      "\n",
      "AUC score on CV data for C = 0.01 is 0.655941619976452\n",
      "\n",
      "AUC score on CV data for C = 1 is 0.6916598895513069\n",
      "\n",
      "AUC score on CV data for C = 100 is 0.6922667772442754\n",
      "\n",
      "AUC score on CV data for C = 10000 is 0.6922667772442754\n",
      "\n",
      "Optimal C = 100\n"
     ]
    }
   ],
   "source": [
    "hypp_C = [10**-4, 10**-2, 10**0, 10**2, 10**4]\n",
    "auc_list = {}\n",
    "train_auc = []\n",
    "cv_auc = []\n",
    "\n",
    "for i in hypp_C:\n",
    "    model = LogisticRegression(C=i, penalty='l1')\n",
    "    model.fit(weighted_train_vec, Y_train)\n",
    "    \n",
    "    train_predicted_labels = []\n",
    "    for j in range(0, len(weighted_train_vec), 1000):\n",
    "          train_predicted_labels.extend(model.predict(weighted_train_vec[j:j+1000]))\n",
    "    tr_auc = roc_auc_score(Y_train, train_predicted_labels)\n",
    "    train_auc.append(tr_auc)\n",
    "\n",
    "    predicted_labels = []\n",
    "    for j in range(0, len(weighted_cv_vec), 1000):\n",
    "          predicted_labels.extend(model.predict(weighted_cv_vec[j:j+1000]))\n",
    "\n",
    "    # evaluate CV accuracy\n",
    "    auc = roc_auc_score(Y_cv, predicted_labels)\n",
    "    auc_list[i] = auc\n",
    "    print('\\nAUC score on CV data for C = {0} is {1}'.format(i, auc))\n",
    "    cv_auc.append(auc)\n",
    "\n",
    "best_C = max(auc_list.keys(), key=(lambda key: auc_list[key]))\n",
    "print(\"\\nOptimal C = {}\".format(best_C))"
   ]
  },
  {
   "cell_type": "code",
   "execution_count": 66,
   "metadata": {},
   "outputs": [
    {
     "data": {
      "image/png": "[encoded data removed]",
      "text/plain": [
       "<Figure size 432x288 with 1 Axes>"
      ]
     },
     "metadata": {
      "needs_background": "light"
     },
     "output_type": "display_data"
    }
   ],
   "source": [
    "#Plotting performance of model during hyper parameter tuning\n",
    "X = [log(y,10) for y in hypp_C]\n",
    "plt.plot(X,train_auc,'r', label='Train AUC')\n",
    "plt.plot(X,cv_auc,'b', label='Validation AUC')\n",
    "# naming the x axis \n",
    "plt.xlabel('Hyper Parameter (C)') \n",
    "# naming the y axis \n",
    "plt.ylabel('Area under ROC Curve') \n",
    "# giving a title to my graph \n",
    "plt.title('Performance of model') \n",
    "# show a legend on the plot \n",
    "plt.legend() \n",
    "plt.show()"
   ]
  },
  {
   "cell_type": "code",
   "execution_count": 67,
   "metadata": {},
   "outputs": [
    {
     "name": "stdout",
     "output_type": "stream",
     "text": [
      "For Optimal C = 100, AUC Score on Test set = 0.6964976250165407\n"
     ]
    }
   ],
   "source": [
    "model = LogisticRegression(C=best_C, penalty='l1')\n",
    "model.fit(weighted_train_vec, Y_train)\n",
    "\n",
    "train_predicted_labels = []\n",
    "for j in range(0, len(weighted_train_vec), 1000):\n",
    "    train_predicted_labels.extend(model.predict(weighted_train_vec[j:j+1000]))\n",
    "tr_auc = roc_auc_score(Y_train, train_predicted_labels)\n",
    "\n",
    "test_predicted_labels = []\n",
    "for j in range(0, len(weighted_test_vec), 1000):\n",
    "    test_predicted_labels.extend(model.predict(weighted_test_vec[j:j+1000]))\n",
    "\n",
    "auc = roc_auc_score(Y_test, test_predicted_labels)\n",
    "\n",
    "print(\"For Optimal C = {}, AUC Score on Test set = {}\".format(best_C,auc))\n",
    "score_tracker[\"TF-IDF weighted Word2Vec\"] = [\"Brute\",best_C,auc]"
   ]
  },
  {
   "cell_type": "code",
   "execution_count": 68,
   "metadata": {},
   "outputs": [
    {
     "data": {
      "image/png": "[encoded data removed]",
      "text/plain": [
       "<Figure size 432x288 with 1 Axes>"
      ]
     },
     "metadata": {
      "needs_background": "light"
     },
     "output_type": "display_data"
    }
   ],
   "source": [
    "#ROC Curve on Train and Test set\n",
    "#Reference- https://qiita.com/bmj0114/items/460424c110a8ce22d945\n",
    "fpr2, tpr2, thresholds2 = roc_curve(train_predicted_labels, Y_train, pos_label=1)\n",
    "fpr1, tpr1, thresholds1 = roc_curve(test_predicted_labels, Y_test, pos_label=1)\n",
    "\n",
    "plt.figure()\n",
    "plt.plot(fpr1, tpr1, color='darkorange', lw=1, label='Test ROC curve (area = %0.2f)' % auc)\n",
    "plt.plot(fpr2, tpr2, color='green', lw=1, label='Train ROC curve (area = %0.2f)' % tr_auc)\n",
    "plt.plot([0, 1], [0, 1], color='navy', linestyle='--')\n",
    "plt.xlim([0.0, 1.0])\n",
    "plt.ylim([0.0, 1.05])\n",
    "plt.xlabel('False Positive Rate')\n",
    "plt.ylabel('True Positive Rate')\n",
    "plt.title('Receiver operating characteristic')\n",
    "plt.legend(loc=\"lower right\")\n",
    "plt.show()"
   ]
  },
  {
   "cell_type": "code",
   "execution_count": 69,
   "metadata": {},
   "outputs": [
    {
     "data": {
      "image/png": "[encoded data removed]",
      "text/plain": [
       "<Figure size 1440x504 with 2 Axes>"
      ]
     },
     "metadata": {
      "needs_background": "light"
     },
     "output_type": "display_data"
    },
    {
     "name": "stdout",
     "output_type": "stream",
     "text": [
      "\n",
      "Confusion Matrix shows the number of points of Class i (Original Class - Y axis) that was predicted to be in Class j (Predicted Class - X axis)\n"
     ]
    }
   ],
   "source": [
    "#Confusion Matrix\n",
    "Cm = confusion_matrix(Y_test,test_predicted_labels)\n",
    "    \n",
    "labels = ['Negative','Positive']\n",
    "\n",
    "plt.figure(figsize=(20,7))\n",
    "sns.heatmap(Cm, annot=True, cmap=\"YlGnBu\", fmt=\".3f\", xticklabels=labels, yticklabels=labels)\n",
    "plt.xlabel('Original Class')\n",
    "plt.ylabel('Predicted Class')\n",
    "plt.show()\n",
    "    \n",
    "print(\"\\nConfusion Matrix shows the number of points of Class i (Original Class - Y axis) that was \\\n",
    "predicted to be in Class j (Predicted Class - X axis)\")"
   ]
  },
  {
   "cell_type": "markdown",
   "metadata": {},
   "source": [
    "### [5.4.2] Applying Logistic Regression with L2 regularization on TFIDF W2V"
   ]
  },
  {
   "cell_type": "code",
   "execution_count": 70,
   "metadata": {},
   "outputs": [
    {
     "name": "stdout",
     "output_type": "stream",
     "text": [
      "\n",
      "Using L2 - AUC score on CV data for C = 0.0001 is 0.5021179689555609\n",
      "\n",
      "Using L2 - AUC score on CV data for C = 0.01 is 0.6711707161696286\n",
      "\n",
      "Using L2 - AUC score on CV data for C = 1 is 0.6916275375616594\n",
      "\n",
      "Using L2 - AUC score on CV data for C = 100 is 0.6919309814081438\n",
      "\n",
      "Using L2 - AUC score on CV data for C = 10000 is 0.6920988793262095\n",
      "\n",
      "Optimal C = 10000\n",
      "\n",
      "Using L2 - For Optimal C = 10000, AUC Score on Test set = 0.6963574416013525\n"
     ]
    }
   ],
   "source": [
    "# Please write all the code with proper documentation\n",
    "hypp_C = [10**-4, 10**-2, 10**0, 10**2, 10**4]\n",
    "auc_list = {}\n",
    "cv_auc = []\n",
    "\n",
    "for i in hypp_C:\n",
    "    model_1 = LogisticRegression(C=i, penalty='l2')\n",
    "    model_1.fit(weighted_train_vec, Y_train)\n",
    "\n",
    "    predicted_labels = []\n",
    "    for j in range(0, len(weighted_cv_vec), 1000):\n",
    "          predicted_labels.extend(model_1.predict(weighted_cv_vec[j:j+1000]))\n",
    "\n",
    "    # evaluate CV accuracy\n",
    "    auc = roc_auc_score(Y_cv, predicted_labels)\n",
    "    auc_list[i] = auc\n",
    "    print('\\nUsing L2 - AUC score on CV data for C = {0} is {1}'.format(i, auc))\n",
    "    cv_auc.append(auc)\n",
    "\n",
    "best_C = max(auc_list.keys(), key=(lambda key: auc_list[key]))\n",
    "print(\"\\nOptimal C = {}\".format(best_C))\n",
    "\n",
    "model_1 = LogisticRegression(C=best_C, penalty='l2')\n",
    "model_1.fit(weighted_train_vec, Y_train)\n",
    "\n",
    "test_predicted_labels = []\n",
    "for j in range(0, len(weighted_test_vec), 1000):\n",
    "    test_predicted_labels.extend(model_1.predict(weighted_test_vec[j:j+1000]))\n",
    "\n",
    "auc = roc_auc_score(Y_test, test_predicted_labels)\n",
    "\n",
    "print(\"\\nUsing L2 - For Optimal C = {}, AUC Score on Test set = {}\".format(best_C,auc))"
   ]
  },
  {
   "cell_type": "markdown",
   "metadata": {},
   "source": [
    "# [6] Conclusions"
   ]
  },
  {
   "cell_type": "code",
   "execution_count": 71,
   "metadata": {},
   "outputs": [
    {
     "name": "stdout",
     "output_type": "stream",
     "text": [
      "+--------------------------+-------+-----------------+--------------------+\n",
      "|        Vectorizer        | Model | Hyper Parameter |        AUC         |\n",
      "+--------------------------+-------+-----------------+--------------------+\n",
      "|          TF-IDF          | Brute |       100       | 0.8417515252266476 |\n",
      "|       Bag of Words       | Brute |        1        | 0.8164622177906404 |\n",
      "|       Avg Word2Vec       | Brute |       100       | 0.7411095967696357 |\n",
      "| TF-IDF weighted Word2Vec | Brute |       100       | 0.6964976250165407 |\n",
      "+--------------------------+-------+-----------------+--------------------+\n"
     ]
    }
   ],
   "source": [
    "# Please compare all your models using Prettytable library\n",
    "table = PrettyTable()\n",
    "table.field_names = [\"Vectorizer\",\"Model\",\"Hyper Parameter\",\"AUC\"]\n",
    "\n",
    "for key,value in score_tracker.items():\n",
    "    table.add_row([key,value[0],value[1],value[2]])\n",
    "table.sortby = \"AUC\"\n",
    "table.reversesort = True\n",
    "print(table)"
   ]
  }
 ],
 "metadata": {
  "kernelspec": {
   "display_name": "Python 3",
   "language": "python",
   "name": "python3"
  },
  "language_info": {
   "codemirror_mode": {
    "name": "ipython",
    "version": 3
   },
   "file_extension": ".py",
   "mimetype": "text/x-python",
   "name": "python",
   "nbconvert_exporter": "python",
   "pygments_lexer": "ipython3",
   "version": "3.7.0"
  }
 },
 "nbformat": 4,
 "nbformat_minor": 2
}
